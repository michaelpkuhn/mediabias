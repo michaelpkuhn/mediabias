{
 "cells": [
  {
   "cell_type": "code",
   "execution_count": 172,
   "metadata": {},
   "outputs": [
    {
     "name": "stdout",
     "output_type": "stream",
     "text": [
      "[Errno 2] No such file or directory: '../mediabias_main/congresstweets/data/2017-09-01.json'\n",
      "[Errno 2] No such file or directory: '../mediabias_main/congresstweets/data/2017-09-02.json'\n",
      "[Errno 2] No such file or directory: '../mediabias_main/congresstweets/data/2017-09-03.json'\n",
      "[Errno 2] No such file or directory: '../mediabias_main/congresstweets/data/2017-09-04.json'\n",
      "'id'\n"
     ]
    }
   ],
   "source": [
    "import datetime\n",
    "import pandas as pd\n",
    "import json\n",
    "\n",
    "json_data = '../mediabias_main/congresstweets/data/'\n",
    "day = '2017-06-21'\n",
    "day_dt = datetime.datetime.strptime(day, '%Y-%m-%d')\n",
    "break_time = datetime.datetime(2019, 6, 22)\n",
    "\n",
    "frames = []\n",
    "headers = ['id', 'screen_name', 'time', 'link', 'text', 'source', 'user_id']\n",
    "merged_csv = [headers]\n",
    "merged_json= []\n",
    "keys = set()\n",
    "while day_dt < break_time:\n",
    "    try:\n",
    "        day_str = day_dt.strftime('%Y-%m-%d')\n",
    "        day_ref = json_data+day_str+'.json'\n",
    "        #day_df = pd.read_json(day_ref)\n",
    "        \n",
    "        with open(day_ref,encoding='utf-8') as ref:\n",
    "            day_json = json.load(ref)\n",
    "            #json_day_ls = [list(tweet.values()) for tweet in day_json if len(list(tweet.values())[5]) < 255]\n",
    "            #json_day_ls = [tweet.values() for tweet in day_json if len(list(tweet.values())[5]) < 255]\n",
    "            #keys = keys | {tuple(tweet.keys()) for tweet in day_json}\n",
    "            csv_day_ls =[]\n",
    "            for tweet in day_json:\n",
    "                tweet_ls = []\n",
    "                for col in headers:\n",
    "                        tweet_ls.append(tweet[col])\n",
    "                csv_day_ls.append(tweet_ls)\n",
    "            #for tweet in day_json:\n",
    "            #    tweet['text']\n",
    "            #merged_json += day_json\n",
    "            merged_csv += csv_day_ls\n",
    "        #frames.append(day_df)\n",
    "        day_dt += datetime.timedelta(days=1)\n",
    "    except Exception as e:\n",
    "        print(e)\n",
    "        day_dt += datetime.timedelta(days=1)\n",
    "        pass\n",
    "\n",
    "#This filter DOES NOT WORK INSIDE THE FUNCTION ABOVE idk why...\n",
    "merged_csv = [row for row in merged_csv if row[4].find('\\n') == -1 and row[4].find('\\r') == -1]\n",
    "\n",
    "for row in merged_csv:\n",
    "    row[4] = row[4].replace('\"','')\n",
    "    row[4] = row[4].replace(\"'\", \"\")"
   ]
  },
  {
   "cell_type": "code",
   "execution_count": 169,
   "metadata": {},
   "outputs": [],
   "source": [
    "#keys ={('id', 'screen_name', 'time', 'link', 'text', 'source', 'user_id'),\n",
    "# ('id', 'screen_name', 'user_id', 'time', 'link', 'text', 'source')}"
   ]
  },
  {
   "cell_type": "code",
   "execution_count": 170,
   "metadata": {},
   "outputs": [
    {
     "data": {
      "text/plain": [
       "'Estoy de acuerdo, Rauner debe firmar: Empresarios urgen al Gobernador firmar a Trust Act @HoyChicago https://t.co/aIVYU0FdEM #twill'"
      ]
     },
     "execution_count": 170,
     "metadata": {},
     "output_type": "execute_result"
    }
   ],
   "source": [
    "len(merged_json)\n",
    "\n",
    "#merged_json[4939][4]\n",
    "#\"lemon\".find('\\n')\n",
    "#merged_json[:5]#[1226105]#[4].find('\\n')\n",
    "merged_csv[5630][4]#.replace('\"','')"
   ]
  },
  {
   "cell_type": "code",
   "execution_count": 110,
   "metadata": {},
   "outputs": [
    {
     "name": "stdout",
     "output_type": "stream",
     "text": [
      "{'id': '877527850420776961', 'screen_name': 'RepErikPaulsen', 'time': '2017-06-21T10:05:17-04:00', 'link': 'https://www.twitter.com/CRN_Supplements/statuses/877509166285414401', 'text': 'RT @CRN_Supplements Thank you @RepErikPaulsen for speaking to the dietary supplement industry today! And thank you for your support of HR 1175! #DoH17 #HSAs https://t.co/oADXe2kFR6', 'source': 'Twitter Web Client', 'user_id': '17513304'}\n"
     ]
    },
    {
     "ename": "TypeError",
     "evalue": "not all arguments converted during string formatting",
     "output_type": "error",
     "traceback": [
      "\u001b[1;31m---------------------------------------------------------------------------\u001b[0m",
      "\u001b[1;31mTypeError\u001b[0m                                 Traceback (most recent call last)",
      "\u001b[1;32m<ipython-input-110-f680e52648f6>\u001b[0m in \u001b[0;36m<module>\u001b[1;34m\u001b[0m\n\u001b[0;32m     14\u001b[0m     \u001b[0mmy_data\u001b[0m\u001b[1;33m=\u001b[0m\u001b[1;33m{\u001b[0m\u001b[0mfield\u001b[0m\u001b[1;33m:\u001b[0m \u001b[0mitem\u001b[0m\u001b[1;33m[\u001b[0m\u001b[0mfield\u001b[0m\u001b[1;33m]\u001b[0m \u001b[1;32mfor\u001b[0m \u001b[0mfield\u001b[0m \u001b[1;32min\u001b[0m \u001b[0mfields\u001b[0m\u001b[1;33m}\u001b[0m\u001b[1;33m\u001b[0m\u001b[1;33m\u001b[0m\u001b[0m\n\u001b[0;32m     15\u001b[0m     \u001b[0mprint\u001b[0m\u001b[1;33m(\u001b[0m\u001b[0mmy_data\u001b[0m\u001b[1;33m)\u001b[0m\u001b[1;33m\u001b[0m\u001b[1;33m\u001b[0m\u001b[0m\n\u001b[1;32m---> 16\u001b[1;33m     \u001b[0mcur\u001b[0m\u001b[1;33m.\u001b[0m\u001b[0mexecute\u001b[0m\u001b[1;33m(\u001b[0m\u001b[1;34m\"INSERT INTO mediabias VALUES (%s,%s,%s,%s,%s,%s,%s, %s)\"\u001b[0m\u001b[1;33m,\u001b[0m \u001b[1;33m(\u001b[0m\u001b[0mjson\u001b[0m\u001b[1;33m.\u001b[0m\u001b[0mdumps\u001b[0m\u001b[1;33m(\u001b[0m\u001b[0mmy_data\u001b[0m\u001b[1;33m)\u001b[0m\u001b[1;33m)\u001b[0m\u001b[1;33m)\u001b[0m\u001b[1;33m\u001b[0m\u001b[1;33m\u001b[0m\u001b[0m\n\u001b[0m\u001b[0;32m     17\u001b[0m \u001b[1;33m\u001b[0m\u001b[0m\n\u001b[0;32m     18\u001b[0m \u001b[0mconn\u001b[0m\u001b[1;33m.\u001b[0m\u001b[0mcommit\u001b[0m\u001b[1;33m(\u001b[0m\u001b[1;33m)\u001b[0m\u001b[1;33m\u001b[0m\u001b[1;33m\u001b[0m\u001b[0m\n",
      "\u001b[1;31mTypeError\u001b[0m: not all arguments converted during string formatting"
     ]
    }
   ],
   "source": []
  },
  {
   "cell_type": "code",
   "execution_count": 173,
   "metadata": {},
   "outputs": [],
   "source": [
    "#with open('../mediabias_main/data.json', 'w', encoding='utf-8') as f:\n",
    "#    json.dump(merged_json, f, ensure_ascii=False, indent=4)\n",
    "\n",
    "import csv\n",
    "with open('../mediabias_main/data.csv', 'w', newline = '', encoding='utf8') as csvfile:\n",
    "    spamwriter = csv.writer(csvfile)\n",
    "    for row in merged_csv:\n",
    "        spamwriter.writerow(row)"
   ]
  },
  {
   "cell_type": "code",
   "execution_count": null,
   "metadata": {},
   "outputs": [],
   "source": []
  },
  {
   "cell_type": "code",
   "execution_count": 177,
   "metadata": {},
   "outputs": [],
   "source": [
    "meta_json = '../mediabias_main/historical-users-filtered.json'\n",
    "headers = ['name', 'chamber', 'type', 'party', 'accounts', 'id', 'state', 'prev_props']\n",
    "merged_csv = []\n",
    "with open(meta_json,encoding='utf-8') as ref:\n",
    "    m_json = json.load(ref)\n",
    "    csv_row =[]\n",
    "    for mem in m_json:\n",
    "        mem_ls = []\n",
    "        for col in headers:\n",
    "                try:\n",
    "                    mem_ls.append(mem[col])\n",
    "                except:\n",
    "                    mem_ls.append(None)\n",
    "        csv_row.append(mem_ls)\n",
    "    merged_csv += csv_row"
   ]
  },
  {
   "cell_type": "code",
   "execution_count": 179,
   "metadata": {},
   "outputs": [],
   "source": [
    "import csv\n",
    "with open('../mediabias_main/meta.csv', 'w', newline = '', encoding='utf8') as csvfile:\n",
    "    spamwriter = csv.writer(csvfile)\n",
    "    for row in merged_csv:\n",
    "        spamwriter.writerow(row)"
   ]
  },
  {
   "cell_type": "code",
   "execution_count": 182,
   "metadata": {},
   "outputs": [
    {
     "data": {
      "text/plain": [
       "['House Committee on Foreign Affairs',\n",
       " 'house',\n",
       " 'committee',\n",
       " None,\n",
       " [{'id': '61206798',\n",
       "   'screen_name': 'HouseForeign',\n",
       "   'party': 'D',\n",
       "   'account_type': 'office',\n",
       "   'prev_names': ['HFACDemocrats', 'HouseForeign']},\n",
       "  {'id': '75367781',\n",
       "   'screen_name': 'HouseForeignGOP',\n",
       "   'party': 'R',\n",
       "   'account_type': 'office',\n",
       "   'prev_names': ['HouseForeign']}],\n",
       " {'thomas_id': 'HSFA', 'house_committee_id': 'FA', 'tag': 'foreignaffairs'},\n",
       " None,\n",
       " None]"
      ]
     },
     "execution_count": 182,
     "metadata": {},
     "output_type": "execute_result"
    }
   ],
   "source": [
    "merged_csv[36]"
   ]
  },
  {
   "cell_type": "code",
   "execution_count": 8,
   "metadata": {},
   "outputs": [],
   "source": [
    "#Improves merge performance\n",
    "external_df.reset_index(inplace=True)\n",
    "url_extract.reset_index(inplace=True)"
   ]
  },
  {
   "cell_type": "code",
   "execution_count": null,
   "metadata": {},
   "outputs": [],
   "source": [
    "user_df = external_df.merge(url_extract, on=\"id\")"
   ]
  },
  {
   "cell_type": "code",
   "execution_count": null,
   "metadata": {},
   "outputs": [],
   "source": [
    "user_df = external_df.join(url_extract, on=\"id\")"
   ]
  },
  {
   "cell_type": "code",
   "execution_count": 183,
   "metadata": {},
   "outputs": [
    {
     "data": {
      "text/html": [
       "<div>\n",
       "<style scoped>\n",
       "    .dataframe tbody tr th:only-of-type {\n",
       "        vertical-align: middle;\n",
       "    }\n",
       "\n",
       "    .dataframe tbody tr th {\n",
       "        vertical-align: top;\n",
       "    }\n",
       "\n",
       "    .dataframe thead th {\n",
       "        text-align: right;\n",
       "    }\n",
       "</style>\n",
       "<table border=\"1\" class=\"dataframe\">\n",
       "  <thead>\n",
       "    <tr style=\"text-align: right;\">\n",
       "      <th></th>\n",
       "      <th>name</th>\n",
       "      <th>chamber</th>\n",
       "      <th>type</th>\n",
       "      <th>party</th>\n",
       "      <th>accounts</th>\n",
       "      <th>id</th>\n",
       "      <th>state</th>\n",
       "      <th>prev_props</th>\n",
       "    </tr>\n",
       "  </thead>\n",
       "  <tbody>\n",
       "    <tr>\n",
       "      <td>51</td>\n",
       "      <td>Don Young</td>\n",
       "      <td>house</td>\n",
       "      <td>member</td>\n",
       "      <td>R</td>\n",
       "      <td>[{'id': '37007274', 'screen_name': 'repdonyoun...</td>\n",
       "      <td>{'bioguide': 'Y000033', 'govtrack': 400440}</td>\n",
       "      <td>AK</td>\n",
       "      <td>NaN</td>\n",
       "    </tr>\n",
       "    <tr>\n",
       "      <td>52</td>\n",
       "      <td>Bradley Byrne</td>\n",
       "      <td>house</td>\n",
       "      <td>member</td>\n",
       "      <td>R</td>\n",
       "      <td>[{'id': '2253968388', 'screen_name': 'RepByrne...</td>\n",
       "      <td>{'bioguide': 'B001289', 'govtrack': 412601}</td>\n",
       "      <td>AL</td>\n",
       "      <td>NaN</td>\n",
       "    </tr>\n",
       "    <tr>\n",
       "      <td>53</td>\n",
       "      <td>Gary Palmer</td>\n",
       "      <td>house</td>\n",
       "      <td>member</td>\n",
       "      <td>R</td>\n",
       "      <td>[{'id': '2861616083', 'screen_name': 'USRepGar...</td>\n",
       "      <td>{'bioguide': 'P000609', 'govtrack': 412608}</td>\n",
       "      <td>AL</td>\n",
       "      <td>NaN</td>\n",
       "    </tr>\n",
       "    <tr>\n",
       "      <td>54</td>\n",
       "      <td>Martha Roby</td>\n",
       "      <td>house</td>\n",
       "      <td>member</td>\n",
       "      <td>R</td>\n",
       "      <td>[{'id': '224294785', 'screen_name': 'RepMartha...</td>\n",
       "      <td>{'bioguide': 'R000591', 'govtrack': 412394}</td>\n",
       "      <td>AL</td>\n",
       "      <td>NaN</td>\n",
       "    </tr>\n",
       "    <tr>\n",
       "      <td>55</td>\n",
       "      <td>Mike Rogers</td>\n",
       "      <td>house</td>\n",
       "      <td>member</td>\n",
       "      <td>R</td>\n",
       "      <td>[{'id': '33977070', 'screen_name': 'RepMikeRog...</td>\n",
       "      <td>{'bioguide': 'R000575', 'govtrack': 400341}</td>\n",
       "      <td>AL</td>\n",
       "      <td>NaN</td>\n",
       "    </tr>\n",
       "  </tbody>\n",
       "</table>\n",
       "</div>"
      ],
      "text/plain": [
       "             name chamber    type party  \\\n",
       "51      Don Young   house  member     R   \n",
       "52  Bradley Byrne   house  member     R   \n",
       "53    Gary Palmer   house  member     R   \n",
       "54    Martha Roby   house  member     R   \n",
       "55    Mike Rogers   house  member     R   \n",
       "\n",
       "                                             accounts  \\\n",
       "51  [{'id': '37007274', 'screen_name': 'repdonyoun...   \n",
       "52  [{'id': '2253968388', 'screen_name': 'RepByrne...   \n",
       "53  [{'id': '2861616083', 'screen_name': 'USRepGar...   \n",
       "54  [{'id': '224294785', 'screen_name': 'RepMartha...   \n",
       "55  [{'id': '33977070', 'screen_name': 'RepMikeRog...   \n",
       "\n",
       "                                             id state prev_props  \n",
       "51  {'bioguide': 'Y000033', 'govtrack': 400440}    AK        NaN  \n",
       "52  {'bioguide': 'B001289', 'govtrack': 412601}    AL        NaN  \n",
       "53  {'bioguide': 'P000609', 'govtrack': 412608}    AL        NaN  \n",
       "54  {'bioguide': 'R000591', 'govtrack': 412394}    AL        NaN  \n",
       "55  {'bioguide': 'R000575', 'govtrack': 400341}    AL        NaN  "
      ]
     },
     "execution_count": 183,
     "metadata": {},
     "output_type": "execute_result"
    }
   ],
   "source": [
    "meta_json = '../mediabias_main/historical-users-filtered.json'\n",
    "meta_df = pd.read_json(meta_json)\n",
    "mem_df = meta_df.loc[meta_df['type']=='member']\n",
    "mem_df.head()"
   ]
  },
  {
   "cell_type": "code",
   "execution_count": 184,
   "metadata": {},
   "outputs": [],
   "source": [
    "account_df = pd.DataFrame(columns=['account_id', 'name', 'screen_name'])\n",
    "i = 0\n",
    "for index, row in mem_df.iterrows():\n",
    "    #print(row)\n",
    "    for account in row.accounts:\n",
    "        a_id = int(account['id'])\n",
    "        name = row.loc['name']\n",
    "        un = account['screen_name']\n",
    "        account_df.loc[i] = [a_id, name, un]\n",
    "        #print(a_id)\n",
    "        #print(name)\n",
    "        i += 1"
   ]
  },
  {
   "cell_type": "code",
   "execution_count": 188,
   "metadata": {},
   "outputs": [],
   "source": [
    "account_df.to_csv('../mediabias_main/meta.csv', index=False)"
   ]
  },
  {
   "cell_type": "code",
   "execution_count": 187,
   "metadata": {},
   "outputs": [
    {
     "data": {
      "text/html": [
       "<div>\n",
       "<style scoped>\n",
       "    .dataframe tbody tr th:only-of-type {\n",
       "        vertical-align: middle;\n",
       "    }\n",
       "\n",
       "    .dataframe tbody tr th {\n",
       "        vertical-align: top;\n",
       "    }\n",
       "\n",
       "    .dataframe thead th {\n",
       "        text-align: right;\n",
       "    }\n",
       "</style>\n",
       "<table border=\"1\" class=\"dataframe\">\n",
       "  <thead>\n",
       "    <tr style=\"text-align: right;\">\n",
       "      <th></th>\n",
       "      <th>account_id</th>\n",
       "      <th>name</th>\n",
       "      <th>screen_name</th>\n",
       "    </tr>\n",
       "  </thead>\n",
       "  <tbody>\n",
       "    <tr>\n",
       "      <td>0</td>\n",
       "      <td>37007274</td>\n",
       "      <td>Don Young</td>\n",
       "      <td>repdonyoung</td>\n",
       "    </tr>\n",
       "    <tr>\n",
       "      <td>1</td>\n",
       "      <td>2559398984</td>\n",
       "      <td>Don Young</td>\n",
       "      <td>DonYoungAK</td>\n",
       "    </tr>\n",
       "    <tr>\n",
       "      <td>2</td>\n",
       "      <td>2253968388</td>\n",
       "      <td>Bradley Byrne</td>\n",
       "      <td>RepByrne</td>\n",
       "    </tr>\n",
       "    <tr>\n",
       "      <td>3</td>\n",
       "      <td>42481696</td>\n",
       "      <td>Bradley Byrne</td>\n",
       "      <td>BradleyByrne</td>\n",
       "    </tr>\n",
       "    <tr>\n",
       "      <td>4</td>\n",
       "      <td>2861616083</td>\n",
       "      <td>Gary Palmer</td>\n",
       "      <td>USRepGaryPalmer</td>\n",
       "    </tr>\n",
       "    <tr>\n",
       "      <td>...</td>\n",
       "      <td>...</td>\n",
       "      <td>...</td>\n",
       "      <td>...</td>\n",
       "    </tr>\n",
       "    <tr>\n",
       "      <td>1278</td>\n",
       "      <td>158890005</td>\n",
       "      <td>Shelley Moore Capito</td>\n",
       "      <td>CapitoforWV</td>\n",
       "    </tr>\n",
       "    <tr>\n",
       "      <td>1279</td>\n",
       "      <td>202206694</td>\n",
       "      <td>John Barrasso</td>\n",
       "      <td>SenJohnBarrasso</td>\n",
       "    </tr>\n",
       "    <tr>\n",
       "      <td>1280</td>\n",
       "      <td>499268312</td>\n",
       "      <td>John Barrasso</td>\n",
       "      <td>barrassoforwyo</td>\n",
       "    </tr>\n",
       "    <tr>\n",
       "      <td>1281</td>\n",
       "      <td>291756142</td>\n",
       "      <td>Mike Enzi</td>\n",
       "      <td>SenatorEnzi</td>\n",
       "    </tr>\n",
       "    <tr>\n",
       "      <td>1282</td>\n",
       "      <td>1848942470</td>\n",
       "      <td>Mike Enzi</td>\n",
       "      <td>EnziforWyo</td>\n",
       "    </tr>\n",
       "  </tbody>\n",
       "</table>\n",
       "<p>1283 rows × 3 columns</p>\n",
       "</div>"
      ],
      "text/plain": [
       "      account_id                  name      screen_name\n",
       "0       37007274             Don Young      repdonyoung\n",
       "1     2559398984             Don Young       DonYoungAK\n",
       "2     2253968388         Bradley Byrne         RepByrne\n",
       "3       42481696         Bradley Byrne     BradleyByrne\n",
       "4     2861616083           Gary Palmer  USRepGaryPalmer\n",
       "...          ...                   ...              ...\n",
       "1278   158890005  Shelley Moore Capito      CapitoforWV\n",
       "1279   202206694         John Barrasso  SenJohnBarrasso\n",
       "1280   499268312         John Barrasso   barrassoforwyo\n",
       "1281   291756142             Mike Enzi      SenatorEnzi\n",
       "1282  1848942470             Mike Enzi       EnziforWyo\n",
       "\n",
       "[1283 rows x 3 columns]"
      ]
     },
     "execution_count": 187,
     "metadata": {},
     "output_type": "execute_result"
    }
   ],
   "source": [
    "account_df"
   ]
  },
  {
   "cell_type": "code",
   "execution_count": null,
   "metadata": {},
   "outputs": [],
   "source": []
  }
 ],
 "metadata": {
  "kernelspec": {
   "display_name": "Python 3",
   "language": "python",
   "name": "python3"
  },
  "language_info": {
   "codemirror_mode": {
    "name": "ipython",
    "version": 3
   },
   "file_extension": ".py",
   "mimetype": "text/x-python",
   "name": "python",
   "nbconvert_exporter": "python",
   "pygments_lexer": "ipython3",
   "version": "3.7.4"
  }
 },
 "nbformat": 4,
 "nbformat_minor": 4
}
