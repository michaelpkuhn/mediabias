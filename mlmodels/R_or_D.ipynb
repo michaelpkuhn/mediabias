{
 "cells": [
  {
   "cell_type": "markdown",
   "metadata": {},
   "source": [
    "# Republican or Democrat Tweet Predictor\n",
    "\n",
    "This notebook outputs a Stocastic Gradient Decent model for predicting the pollitical party of a tweeter.  Specifically, it outputs the following files:\n"
   ]
  },
  {
   "cell_type": "code",
   "execution_count": 1,
   "metadata": {},
   "outputs": [
    {
     "name": "stderr",
     "output_type": "stream",
     "text": [
      "[nltk_data] Downloading package stopwords to C:\\Users\\Herman D\n",
      "[nltk_data]     Schaumburg\\AppData\\Roaming\\nltk_data...\n",
      "[nltk_data]   Package stopwords is already up-to-date!\n",
      "[nltk_data] Downloading package punkt to C:\\Users\\Herman D\n",
      "[nltk_data]     Schaumburg\\AppData\\Roaming\\nltk_data...\n",
      "[nltk_data]   Package punkt is already up-to-date!\n"
     ]
    },
    {
     "data": {
      "text/plain": [
       "True"
      ]
     },
     "execution_count": 1,
     "metadata": {},
     "output_type": "execute_result"
    }
   ],
   "source": [
    "import pandas as pd\n",
    "\n",
    "# Tools to remove stopwords from tweets\n",
    "import nltk\n",
    "from nltk.corpus import stopwords\n",
    "nltk.download('stopwords')\n",
    "from nltk.tokenize import word_tokenize\n",
    "nltk.download('punkt')"
   ]
  },
  {
   "cell_type": "code",
   "execution_count": 2,
   "metadata": {},
   "outputs": [],
   "source": [
    "stop_words = set(stopwords.words('english'))\n",
    "\n",
    "def fix_party_code(pc):\n",
    "    if pc == 100:\n",
    "        return 'D'\n",
    "    else:\n",
    "        return 'R'\n",
    "#    return int(pc/100-1)\n",
    "def list_tostring(input_list):\n",
    "    return ' '.join(input_list)\n",
    "\n",
    "def remove_stopwords(input_list):\n",
    "    return [w for w in input_list if not w in stop_words]\n",
    "\n",
    "def clean_tweets(input_df):\n",
    "    input_df['party_code'] = input_df['party_code'].apply(fix_party_code)\n",
    "    input_df['text'] = input_df['text'].apply(word_tokenize)\n",
    "    input_df['text'] = input_df['text'].apply(remove_stopwords)\n",
    "    input_df['text'] = input_df['text'].apply(list_tostring)    \n",
    "    return input_df"
   ]
  },
  {
   "cell_type": "code",
   "execution_count": 3,
   "metadata": {},
   "outputs": [
    {
     "data": {
      "text/html": [
       "<div>\n",
       "<style scoped>\n",
       "    .dataframe tbody tr th:only-of-type {\n",
       "        vertical-align: middle;\n",
       "    }\n",
       "\n",
       "    .dataframe tbody tr th {\n",
       "        vertical-align: top;\n",
       "    }\n",
       "\n",
       "    .dataframe thead th {\n",
       "        text-align: right;\n",
       "    }\n",
       "</style>\n",
       "<table border=\"1\" class=\"dataframe\">\n",
       "  <thead>\n",
       "    <tr style=\"text-align: right;\">\n",
       "      <th></th>\n",
       "      <th>account_id</th>\n",
       "      <th>bioguide_id</th>\n",
       "      <th>mem_name</th>\n",
       "      <th>screen_name</th>\n",
       "      <th>chamber</th>\n",
       "      <th>state_abbr</th>\n",
       "      <th>party_code</th>\n",
       "    </tr>\n",
       "  </thead>\n",
       "  <tbody>\n",
       "    <tr>\n",
       "      <th>0</th>\n",
       "      <td>37007274</td>\n",
       "      <td>Y000033</td>\n",
       "      <td>Don Young</td>\n",
       "      <td>repdonyoung</td>\n",
       "      <td>House</td>\n",
       "      <td>AK</td>\n",
       "      <td>200</td>\n",
       "    </tr>\n",
       "    <tr>\n",
       "      <th>1</th>\n",
       "      <td>2559398984</td>\n",
       "      <td>Y000033</td>\n",
       "      <td>Don Young</td>\n",
       "      <td>DonYoungAK</td>\n",
       "      <td>House</td>\n",
       "      <td>AK</td>\n",
       "      <td>200</td>\n",
       "    </tr>\n",
       "    <tr>\n",
       "      <th>2</th>\n",
       "      <td>2253968388</td>\n",
       "      <td>B001289</td>\n",
       "      <td>Bradley Byrne</td>\n",
       "      <td>RepByrne</td>\n",
       "      <td>House</td>\n",
       "      <td>AL</td>\n",
       "      <td>200</td>\n",
       "    </tr>\n",
       "    <tr>\n",
       "      <th>3</th>\n",
       "      <td>42481696</td>\n",
       "      <td>B001289</td>\n",
       "      <td>Bradley Byrne</td>\n",
       "      <td>BradleyByrne</td>\n",
       "      <td>House</td>\n",
       "      <td>AL</td>\n",
       "      <td>200</td>\n",
       "    </tr>\n",
       "    <tr>\n",
       "      <th>4</th>\n",
       "      <td>2861616083</td>\n",
       "      <td>P000609</td>\n",
       "      <td>Gary Palmer</td>\n",
       "      <td>USRepGaryPalmer</td>\n",
       "      <td>House</td>\n",
       "      <td>AL</td>\n",
       "      <td>200</td>\n",
       "    </tr>\n",
       "  </tbody>\n",
       "</table>\n",
       "</div>"
      ],
      "text/plain": [
       "   account_id bioguide_id       mem_name      screen_name chamber state_abbr  \\\n",
       "0    37007274     Y000033      Don Young      repdonyoung   House         AK   \n",
       "1  2559398984     Y000033      Don Young       DonYoungAK   House         AK   \n",
       "2  2253968388     B001289  Bradley Byrne         RepByrne   House         AL   \n",
       "3    42481696     B001289  Bradley Byrne     BradleyByrne   House         AL   \n",
       "4  2861616083     P000609    Gary Palmer  USRepGaryPalmer   House         AL   \n",
       "\n",
       "   party_code  \n",
       "0         200  \n",
       "1         200  \n",
       "2         200  \n",
       "3         200  \n",
       "4         200  "
      ]
     },
     "execution_count": 3,
     "metadata": {},
     "output_type": "execute_result"
    }
   ],
   "source": [
    "party_code_df = pd.read_csv(\"partycode.csv\")\n",
    "party_code_df.head()"
   ]
  },
  {
   "cell_type": "code",
   "execution_count": 4,
   "metadata": {},
   "outputs": [],
   "source": [
    "party_dict = party_code_df[['party_code','account_id']].set_index('account_id').to_dict()\n",
    "party_dict = party_dict['party_code']"
   ]
  },
  {
   "cell_type": "code",
   "execution_count": 5,
   "metadata": {},
   "outputs": [
    {
     "name": "stdout",
     "output_type": "stream",
     "text": [
      "Training day consists of 3150.0 tweets.\n"
     ]
    }
   ],
   "source": [
    "# Specify dates for training data\n",
    "dates = pd.date_range(start='4/10/2020', end='4/30/2020')\n",
    "dates = [str(date)[0:10] for date in dates]\n",
    "\n",
    "# Specify number of samples per day per party\n",
    "#date_samples = 1000\n",
    "date_samples = 200\n",
    "print('Training day consists of '+str(date_samples*0.75*len(dates))+' tweets.')"
   ]
  },
  {
   "cell_type": "code",
   "execution_count": 6,
   "metadata": {},
   "outputs": [
    {
     "name": "stdout",
     "output_type": "stream",
     "text": [
      "2020-04-10\n",
      "2020-04-11\n",
      "2020-04-12\n",
      "2020-04-13\n",
      "2020-04-14\n",
      "2020-04-15\n",
      "2020-04-16\n",
      "2020-04-17\n",
      "2020-04-18\n",
      "2020-04-19\n",
      "2020-04-20\n",
      "2020-04-21\n",
      "2020-04-22\n",
      "2020-04-23\n",
      "2020-04-24\n",
      "2020-04-25\n",
      "2020-04-26\n",
      "2020-04-27\n",
      "2020-04-28\n",
      "2020-04-29\n",
      "2020-04-30\n"
     ]
    }
   ],
   "source": [
    "# Create empty dataframe\n",
    "train_df = pd.DataFrame(columns=['text','party_code'])\n",
    "\n",
    "for date in dates:\n",
    "    date_str = date\n",
    "    print(date)\n",
    "    example_tweets = pd.read_json(\"mediabias_main/congresstweets/data/\"+date_str+\".json\")\n",
    "    example_tweets[\"party_code\"] = example_tweets[\"user_id\"]\n",
    "    example_tweets = example_tweets.replace({\"party_code\":party_dict})\n",
    "    date_train_data = example_tweets[(example_tweets['party_code']!=100)|(example_tweets['party_code']!=200)][['text','party_code']]\n",
    "    # Rearrange rows\n",
    "    date_train_data = date_train_data.sample(frac=1)\n",
    "    date_train_data_R=date_train_data[date_train_data['party_code']==200].head(date_samples)\n",
    "    date_train_data_D=date_train_data[date_train_data['party_code']==100].head(date_samples)\n",
    "    # Remove stop words and fix party code\n",
    "    date_train_data = clean_tweets(date_train_data_D.append(date_train_data_R, ignore_index=True))\n",
    "    #if date == date[0]:\n",
    "    #    train_df = date_train_data\n",
    "    #else:\n",
    "    train_df = train_df.append(date_train_data)#, ignore_index=True)"
   ]
  },
  {
   "cell_type": "code",
   "execution_count": 7,
   "metadata": {},
   "outputs": [],
   "source": [
    "train_df = train_df.reset_index(drop=True)"
   ]
  },
  {
   "cell_type": "markdown",
   "metadata": {},
   "source": [
    "# Text Vectorization"
   ]
  },
  {
   "cell_type": "code",
   "execution_count": 8,
   "metadata": {},
   "outputs": [],
   "source": [
    "from os import system\n",
    "from sklearn.linear_model import SGDClassifier\n",
    "from sklearn.model_selection import train_test_split\n",
    "from scipy.sparse import csr_matrix\n",
    "import numpy as np\n",
    "from sklearn.feature_extraction.text import CountVectorizer, TfidfTransformer\n",
    "from joblib import dump, load # used for saving and loading sklearn objects\n",
    "from scipy.sparse import save_npz, load_npz # used for saving and loading sparse matrices"
   ]
  },
  {
   "cell_type": "code",
   "execution_count": 9,
   "metadata": {},
   "outputs": [
    {
     "data": {
      "text/plain": [
       "CountVectorizer(analyzer='word', binary=False, decode_error='strict',\n",
       "                dtype=<class 'numpy.int64'>, encoding='utf-8', input='content',\n",
       "                lowercase=True, max_df=1.0, max_features=None, min_df=1,\n",
       "                ngram_range=(1, 1), preprocessor=None, stop_words=None,\n",
       "                strip_accents=None, token_pattern='(?u)\\\\b\\\\w\\\\w+\\\\b',\n",
       "                tokenizer=None, vocabulary=None)"
      ]
     },
     "execution_count": 9,
     "metadata": {},
     "output_type": "execute_result"
    }
   ],
   "source": [
    "system(\"mkdir data_preprocessors\")\n",
    "system(\"mkdir vectorized_data\")\n",
    "\n",
    "# Unigram Counts\n",
    "unigram_vectorizer = CountVectorizer(ngram_range=(1, 1))\n",
    "unigram_vectorizer.fit(train_df['text'].values)"
   ]
  },
  {
   "cell_type": "code",
   "execution_count": 10,
   "metadata": {},
   "outputs": [
    {
     "data": {
      "text/plain": [
       "['data_preprocessors/unigram_vectorizer.joblib']"
      ]
     },
     "execution_count": 10,
     "metadata": {},
     "output_type": "execute_result"
    }
   ],
   "source": [
    "dump(unigram_vectorizer, 'data_preprocessors/unigram_vectorizer.joblib')"
   ]
  },
  {
   "cell_type": "code",
   "execution_count": 11,
   "metadata": {},
   "outputs": [],
   "source": [
    "# unigram_vectorizer = load('data_preprocessors/unigram_vectorizer.joblib')\n",
    "\n",
    "X_train_unigram = unigram_vectorizer.transform(train_df['text'].values)\n",
    "save_npz('vectorized_data/X_train_unigram.npz', X_train_unigram)"
   ]
  },
  {
   "cell_type": "code",
   "execution_count": 12,
   "metadata": {},
   "outputs": [
    {
     "data": {
      "text/plain": [
       "['data_preprocessors/unigram_tf_idf_transformer.joblib']"
      ]
     },
     "execution_count": 12,
     "metadata": {},
     "output_type": "execute_result"
    }
   ],
   "source": [
    "# Unigram Tf-Idf\n",
    "\n",
    "unigram_tf_idf_transformer = TfidfTransformer()\n",
    "unigram_tf_idf_transformer.fit(X_train_unigram)\n",
    "\n",
    "dump(unigram_tf_idf_transformer, 'data_preprocessors/unigram_tf_idf_transformer.joblib')"
   ]
  },
  {
   "cell_type": "code",
   "execution_count": 13,
   "metadata": {},
   "outputs": [],
   "source": [
    "X_train_unigram_tf_idf = unigram_tf_idf_transformer.transform(X_train_unigram)\n",
    "\n",
    "save_npz('vectorized_data/X_train_unigram_tf_idf.npz', X_train_unigram_tf_idf)"
   ]
  },
  {
   "cell_type": "code",
   "execution_count": 14,
   "metadata": {},
   "outputs": [
    {
     "data": {
      "text/plain": [
       "['data_preprocessors/bigram_vectorizer.joblib']"
      ]
     },
     "execution_count": 14,
     "metadata": {},
     "output_type": "execute_result"
    }
   ],
   "source": [
    "# Bigram Counts\n",
    "\n",
    "bigram_vectorizer = CountVectorizer(ngram_range=(1, 2))\n",
    "bigram_vectorizer.fit(train_df['text'].values)\n",
    "\n",
    "dump(bigram_vectorizer, 'data_preprocessors/bigram_vectorizer.joblib')"
   ]
  },
  {
   "cell_type": "code",
   "execution_count": 15,
   "metadata": {},
   "outputs": [],
   "source": [
    "X_train_bigram = bigram_vectorizer.transform(train_df['text'].values)\n",
    "\n",
    "save_npz('vectorized_data/X_train_bigram.npz', X_train_bigram)"
   ]
  },
  {
   "cell_type": "code",
   "execution_count": 16,
   "metadata": {},
   "outputs": [
    {
     "data": {
      "text/plain": [
       "['data_preprocessors/bigram_tf_idf_transformer.joblib']"
      ]
     },
     "execution_count": 16,
     "metadata": {},
     "output_type": "execute_result"
    }
   ],
   "source": [
    "bigram_tf_idf_transformer = TfidfTransformer()\n",
    "bigram_tf_idf_transformer.fit(X_train_bigram)\n",
    "\n",
    "dump(bigram_tf_idf_transformer, 'data_preprocessors/bigram_tf_idf_transformer.joblib')"
   ]
  },
  {
   "cell_type": "code",
   "execution_count": 17,
   "metadata": {},
   "outputs": [],
   "source": [
    "X_train_bigram_tf_idf = bigram_tf_idf_transformer.transform(X_train_bigram)\n",
    "\n",
    "save_npz('vectorized_data/X_train_bigram_tf_idf.npz', X_train_bigram_tf_idf)"
   ]
  },
  {
   "cell_type": "markdown",
   "metadata": {},
   "source": [
    "# SGDClassifier"
   ]
  },
  {
   "cell_type": "code",
   "execution_count": 18,
   "metadata": {},
   "outputs": [],
   "source": [
    "def train_and_show_scores(X: csr_matrix, y: np.array, title: str) -> None:\n",
    "    X_train, X_valid, y_train, y_valid = train_test_split(\n",
    "        X, y, train_size=0.75, stratify=y\n",
    "    )\n",
    "\n",
    "    clf = SGDClassifier()\n",
    "    clf.fit(X_train, y_train)\n",
    "    train_score = clf.score(X_train, y_train)\n",
    "    valid_score = clf.score(X_valid, y_valid)\n",
    "    print(f'{title}\\nTrain score: {round(train_score, 2)} ; Validation score: {round(valid_score, 2)}\\n')\n",
    "\n",
    "y_train = train_df['party_code'].values"
   ]
  },
  {
   "cell_type": "code",
   "execution_count": 19,
   "metadata": {},
   "outputs": [
    {
     "name": "stdout",
     "output_type": "stream",
     "text": [
      "Unigram Counts\n",
      "Train score: 1.0 ; Validation score: 0.77\n",
      "\n",
      "Unigram Tf-Idf\n",
      "Train score: 0.98 ; Validation score: 0.8\n",
      "\n",
      "Bigram Counts\n",
      "Train score: 1.0 ; Validation score: 0.78\n",
      "\n",
      "Bigram Tf-Idf\n",
      "Train score: 1.0 ; Validation score: 0.82\n",
      "\n"
     ]
    }
   ],
   "source": [
    "train_and_show_scores(X_train_unigram, y_train, 'Unigram Counts')\n",
    "train_and_show_scores(X_train_unigram_tf_idf, y_train, 'Unigram Tf-Idf')\n",
    "train_and_show_scores(X_train_bigram, y_train, 'Bigram Counts')\n",
    "train_and_show_scores(X_train_bigram_tf_idf, y_train, 'Bigram Tf-Idf')"
   ]
  },
  {
   "cell_type": "markdown",
   "metadata": {},
   "source": [
    "# Using Cross-Validation for hyperparameter tuning"
   ]
  },
  {
   "cell_type": "code",
   "execution_count": 20,
   "metadata": {},
   "outputs": [
    {
     "name": "stdout",
     "output_type": "stream",
     "text": [
      "Best params: {'eta0': 0.005195581028172174, 'learning_rate': 'optimal', 'loss': 'hinge'}\n",
      "Best score: 0.7982142857142857\n"
     ]
    }
   ],
   "source": [
    "\n",
    "from sklearn.model_selection import RandomizedSearchCV\n",
    "from scipy.stats import uniform\n",
    "\n",
    "X_train = X_train_bigram_tf_idf\n",
    "\n",
    "\n",
    "# Phase 1: loss, learning rate and initial learning rate\n",
    "\n",
    "clf = SGDClassifier()\n",
    "\n",
    "distributions = dict(\n",
    "    loss=['hinge', 'log', 'modified_huber', 'squared_hinge', 'perceptron'],\n",
    "    learning_rate=['optimal', 'invscaling', 'adaptive'],\n",
    "    eta0=uniform(loc=1e-7, scale=1e-2)\n",
    ")\n",
    "\n",
    "random_search_cv = RandomizedSearchCV(\n",
    "    estimator=clf,\n",
    "    param_distributions=distributions,\n",
    "    cv=5,\n",
    "    n_iter=50\n",
    ")\n",
    "random_search_cv.fit(X_train, y_train)\n",
    "print(f'Best params: {random_search_cv.best_params_}')\n",
    "print(f'Best score: {random_search_cv.best_score_}')"
   ]
  },
  {
   "cell_type": "code",
   "execution_count": 21,
   "metadata": {},
   "outputs": [
    {
     "name": "stdout",
     "output_type": "stream",
     "text": [
      "Best params: {'alpha': 7.398234492804332e-05, 'penalty': 'l2'}\n",
      "Best score: 0.7986904761904762\n"
     ]
    }
   ],
   "source": [
    "# Phase 2: penalty and alpha\n",
    "\n",
    "clf = SGDClassifier()\n",
    "\n",
    "distributions = dict(\n",
    "    penalty=['l1', 'l2', 'elasticnet'],\n",
    "    alpha=uniform(loc=1e-6, scale=1e-4)\n",
    ")\n",
    "\n",
    "random_search_cv = RandomizedSearchCV(\n",
    "    estimator=clf,\n",
    "    param_distributions=distributions,\n",
    "    cv=5,\n",
    "    n_iter=50\n",
    ")\n",
    "random_search_cv.fit(X_train, y_train)\n",
    "print(f'Best params: {random_search_cv.best_params_}')\n",
    "print(f'Best score: {random_search_cv.best_score_}')"
   ]
  },
  {
   "cell_type": "markdown",
   "metadata": {},
   "source": [
    "## Saving best classifier"
   ]
  },
  {
   "cell_type": "code",
   "execution_count": 22,
   "metadata": {},
   "outputs": [
    {
     "data": {
      "text/plain": [
       "['classifiers/sgd_classifier.joblib']"
      ]
     },
     "execution_count": 22,
     "metadata": {},
     "output_type": "execute_result"
    }
   ],
   "source": [
    "system(\"mkdir classifiers\")\n",
    "\n",
    "sgd_classifier = random_search_cv.best_estimator_\n",
    "\n",
    "dump(random_search_cv.best_estimator_, 'classifiers/sgd_classifier.joblib')\n",
    "\n",
    "# sgd_classifier = load('classifiers/sgd_classifier.joblib')"
   ]
  },
  {
   "cell_type": "markdown",
   "metadata": {},
   "source": [
    "# Testing Classifier"
   ]
  },
  {
   "cell_type": "code",
   "execution_count": 23,
   "metadata": {},
   "outputs": [],
   "source": [
    "# Gather test data\n",
    "# Create empty dataframe\n",
    "test_df = pd.DataFrame(columns=['text','party_code'])\n",
    "\n",
    "# Specify dates for test data\n",
    "test_dates = pd.date_range(start='4/29/2020', end='5/3/2020')\n",
    "test_dates = [str(date)[0:10] for date in dates]\n",
    "\n",
    "for date in test_dates:\n",
    "    date_str = date\n",
    "    example_tweets = pd.read_json(\"mediabias_main/congresstweets/data/\"+date_str+\".json\")\n",
    "    example_tweets[\"party_code\"] = example_tweets[\"user_id\"]\n",
    "    example_tweets = example_tweets.replace({\"party_code\":party_dict})\n",
    "    date_test_data = example_tweets[(example_tweets['party_code']!=100)|(example_tweets['party_code']!=200)][['text','party_code']]\n",
    "    date_test_data = clean_tweets(date_test_data)\n",
    "    #if date == date[0]:\n",
    "    #    train_df = date_train_data\n",
    "    #else:\n",
    "    test_df = test_df.append(date_test_data)#, ignore_index=True)\n",
    "test_df = test_df.reset_index(drop=True)"
   ]
  },
  {
   "cell_type": "code",
   "execution_count": 24,
   "metadata": {},
   "outputs": [
    {
     "name": "stdout",
     "output_type": "stream",
     "text": [
      "0.7568380530835528\n"
     ]
    }
   ],
   "source": [
    "X_test = bigram_vectorizer.transform(test_df['text'].values)\n",
    "X_test = bigram_tf_idf_transformer.transform(X_test)\n",
    "#X_test = unigram_tf_idf_transformer.transform(X_test)\n",
    "y_test = test_df['party_code'].values\n",
    "\n",
    "score = sgd_classifier.score(X_test, y_test)\n",
    "print(score)"
   ]
  },
  {
   "cell_type": "code",
   "execution_count": 60,
   "metadata": {},
   "outputs": [],
   "source": [
    "test_df['prediction'] = test_df['text']\n",
    "def predict_out(thing):\n",
    "    input = bigram_tf_idf_transformer.transform(bigram_vectorizer.transform([thing]))\n",
    "    return sgd_classifier.predict(input)[0]\n",
    "test_df['prediction'] = test_df['prediction'].apply(predict_out)\n",
    "#test_df['decision'] = test_df['vectorize'].apply(sgd_classifier.decision_function)"
   ]
  },
  {
   "cell_type": "code",
   "execution_count": 62,
   "metadata": {},
   "outputs": [],
   "source": [
    "test_df['decision'] = test_df['text']\n",
    "def abs_decision(thing):\n",
    "    input = bigram_tf_idf_transformer.transform(bigram_vectorizer.transform([thing]))\n",
    "    return abs(sgd_classifier.decision_function(input)[0])\n",
    "test_df['decision'] = test_df['decision'].apply(abs_decision)"
   ]
  },
  {
   "cell_type": "code",
   "execution_count": 63,
   "metadata": {},
   "outputs": [
    {
     "data": {
      "text/html": [
       "<div>\n",
       "<style scoped>\n",
       "    .dataframe tbody tr th:only-of-type {\n",
       "        vertical-align: middle;\n",
       "    }\n",
       "\n",
       "    .dataframe tbody tr th {\n",
       "        vertical-align: top;\n",
       "    }\n",
       "\n",
       "    .dataframe thead th {\n",
       "        text-align: right;\n",
       "    }\n",
       "</style>\n",
       "<table border=\"1\" class=\"dataframe\">\n",
       "  <thead>\n",
       "    <tr style=\"text-align: right;\">\n",
       "      <th></th>\n",
       "      <th>text</th>\n",
       "      <th>party_code</th>\n",
       "      <th>vectorized</th>\n",
       "      <th>prediction</th>\n",
       "      <th>decision</th>\n",
       "    </tr>\n",
       "  </thead>\n",
       "  <tbody>\n",
       "    <tr>\n",
       "      <th>6</th>\n",
       "      <td>Ugh . https : //twitter.com/isaacdovere/status...</td>\n",
       "      <td>D</td>\n",
       "      <td>(0, 190942)\\t0.15179992140866005\\n  (0, 1909...</td>\n",
       "      <td>R</td>\n",
       "      <td>0.684312</td>\n",
       "    </tr>\n",
       "    <tr>\n",
       "      <th>14</th>\n",
       "      <td>RT @ abbybroyles Today I filed run US Senate m...</td>\n",
       "      <td>D</td>\n",
       "      <td>(0, 190942)\\t0.15179992140866005\\n  (0, 1909...</td>\n",
       "      <td>R</td>\n",
       "      <td>0.403577</td>\n",
       "    </tr>\n",
       "    <tr>\n",
       "      <th>17</th>\n",
       "      <td>RT @ 8NewsNow JUST IN : @ GovSisolak announces...</td>\n",
       "      <td>D</td>\n",
       "      <td>(0, 190942)\\t0.15179992140866005\\n  (0, 1909...</td>\n",
       "      <td>R</td>\n",
       "      <td>0.033016</td>\n",
       "    </tr>\n",
       "    <tr>\n",
       "      <th>20</th>\n",
       "      <td>RT @ starsandstripes The families four Marines...</td>\n",
       "      <td>R</td>\n",
       "      <td>(0, 190942)\\t0.15179992140866005\\n  (0, 1909...</td>\n",
       "      <td>D</td>\n",
       "      <td>0.024976</td>\n",
       "    </tr>\n",
       "    <tr>\n",
       "      <th>26</th>\n",
       "      <td>Coronavirus leading cause death US . If still ...</td>\n",
       "      <td>D</td>\n",
       "      <td>(0, 190942)\\t0.15179992140866005\\n  (0, 1909...</td>\n",
       "      <td>R</td>\n",
       "      <td>0.255955</td>\n",
       "    </tr>\n",
       "    <tr>\n",
       "      <th>...</th>\n",
       "      <td>...</td>\n",
       "      <td>...</td>\n",
       "      <td>...</td>\n",
       "      <td>...</td>\n",
       "      <td>...</td>\n",
       "    </tr>\n",
       "    <tr>\n",
       "      <th>64149</th>\n",
       "      <td>@ ewokmama He good question !</td>\n",
       "      <td>D</td>\n",
       "      <td>(0, 190942)\\t0.15179992140866005\\n  (0, 1909...</td>\n",
       "      <td>R</td>\n",
       "      <td>0.063122</td>\n",
       "    </tr>\n",
       "    <tr>\n",
       "      <th>64152</th>\n",
       "      <td>RT @ HispanicCaucus . @ HispanicCaucus Demands...</td>\n",
       "      <td>R</td>\n",
       "      <td>(0, 190942)\\t0.15179992140866005\\n  (0, 1909...</td>\n",
       "      <td>D</td>\n",
       "      <td>0.772470</td>\n",
       "    </tr>\n",
       "    <tr>\n",
       "      <th>64153</th>\n",
       "      <td>RT @ environment The EPA take comments June 10...</td>\n",
       "      <td>D</td>\n",
       "      <td>(0, 190942)\\t0.15179992140866005\\n  (0, 1909...</td>\n",
       "      <td>R</td>\n",
       "      <td>0.046220</td>\n",
       "    </tr>\n",
       "    <tr>\n",
       "      <th>64155</th>\n",
       "      <td>Some best news April : @ andersoncooper father...</td>\n",
       "      <td>D</td>\n",
       "      <td>(0, 190942)\\t0.15179992140866005\\n  (0, 1909...</td>\n",
       "      <td>R</td>\n",
       "      <td>0.417251</td>\n",
       "    </tr>\n",
       "    <tr>\n",
       "      <th>64161</th>\n",
       "      <td>RT @ TimAlberta You know 's amazing ? This int...</td>\n",
       "      <td>R</td>\n",
       "      <td>(0, 190942)\\t0.15179992140866005\\n  (0, 1909...</td>\n",
       "      <td>D</td>\n",
       "      <td>0.031747</td>\n",
       "    </tr>\n",
       "  </tbody>\n",
       "</table>\n",
       "<p>15602 rows × 5 columns</p>\n",
       "</div>"
      ],
      "text/plain": [
       "                                                    text party_code  \\\n",
       "6      Ugh . https : //twitter.com/isaacdovere/status...          D   \n",
       "14     RT @ abbybroyles Today I filed run US Senate m...          D   \n",
       "17     RT @ 8NewsNow JUST IN : @ GovSisolak announces...          D   \n",
       "20     RT @ starsandstripes The families four Marines...          R   \n",
       "26     Coronavirus leading cause death US . If still ...          D   \n",
       "...                                                  ...        ...   \n",
       "64149                      @ ewokmama He good question !          D   \n",
       "64152  RT @ HispanicCaucus . @ HispanicCaucus Demands...          R   \n",
       "64153  RT @ environment The EPA take comments June 10...          D   \n",
       "64155  Some best news April : @ andersoncooper father...          D   \n",
       "64161  RT @ TimAlberta You know 's amazing ? This int...          R   \n",
       "\n",
       "                                              vectorized prediction  decision  \n",
       "6        (0, 190942)\\t0.15179992140866005\\n  (0, 1909...          R  0.684312  \n",
       "14       (0, 190942)\\t0.15179992140866005\\n  (0, 1909...          R  0.403577  \n",
       "17       (0, 190942)\\t0.15179992140866005\\n  (0, 1909...          R  0.033016  \n",
       "20       (0, 190942)\\t0.15179992140866005\\n  (0, 1909...          D  0.024976  \n",
       "26       (0, 190942)\\t0.15179992140866005\\n  (0, 1909...          R  0.255955  \n",
       "...                                                  ...        ...       ...  \n",
       "64149    (0, 190942)\\t0.15179992140866005\\n  (0, 1909...          R  0.063122  \n",
       "64152    (0, 190942)\\t0.15179992140866005\\n  (0, 1909...          D  0.772470  \n",
       "64153    (0, 190942)\\t0.15179992140866005\\n  (0, 1909...          R  0.046220  \n",
       "64155    (0, 190942)\\t0.15179992140866005\\n  (0, 1909...          R  0.417251  \n",
       "64161    (0, 190942)\\t0.15179992140866005\\n  (0, 1909...          D  0.031747  \n",
       "\n",
       "[15602 rows x 5 columns]"
      ]
     },
     "execution_count": 63,
     "metadata": {},
     "output_type": "execute_result"
    }
   ],
   "source": [
    "error_df = test_df[test_df['prediction']!=test_df['party_code']]\n",
    "error_df"
   ]
  },
  {
   "cell_type": "code",
   "execution_count": 137,
   "metadata": {},
   "outputs": [
    {
     "data": {
      "image/png": "[encoded data removed]",
      "text/plain": [
       "<Figure size 432x288 with 1 Axes>"
      ]
     },
     "metadata": {
      "needs_background": "light"
     },
     "output_type": "display_data"
    }
   ],
   "source": [
    "hist = error_df['decision'].hist(bins=50)"
   ]
  },
  {
   "cell_type": "code",
   "execution_count": 136,
   "metadata": {},
   "outputs": [
    {
     "name": "stdout",
     "output_type": "stream",
     "text": [
      "total errors: 15602\n",
      "accuracy/score check: 0.7568380530835528\n"
     ]
    }
   ],
   "source": [
    "total_errors = len(error_df)\n",
    "print(f'total errors: {total_errors}')\n",
    "print(f'accuracy/score check: {(len(test_df)-total_errors)/len(test_df)}')\n",
    "num_data_points = 100\n",
    "x_min = error_df['decision'].min()\n",
    "x_max = error_df['decision'].max()\n",
    "del_diff = (x_max - x_min)/num_data_points\n",
    "x_data = [x_min+del_diff*j for j in range(0,num_data_points)]\n",
    "y_data = [len(error_df[error_df['decision']>=x_data[j]])/total_errors\n",
    "          for j in range(0,num_data_points)]"
   ]
  },
  {
   "cell_type": "code",
   "execution_count": 87,
   "metadata": {},
   "outputs": [
    {
     "data": {
      "text/plain": [
       "[1.0,\n",
       " 0.961030637097808,\n",
       " 0.9206511985642867,\n",
       " 0.8829637225996667,\n",
       " 0.8464940392257403,\n",
       " 0.8120112806050507,\n",
       " 0.7768234841686963,\n",
       " 0.7451608768106653,\n",
       " 0.7115754390462761,\n",
       " 0.6824766055633893,\n",
       " 0.6551724137931034,\n",
       " 0.6253044481476734,\n",
       " 0.5987693885399308,\n",
       " 0.5715933854634021,\n",
       " 0.5460197410588387,\n",
       " 0.5239712857325984,\n",
       " 0.49961543391872837,\n",
       " 0.4767337520830663,\n",
       " 0.4528265606973465,\n",
       " 0.43385463402127933,\n",
       " 0.41251121651070377,\n",
       " 0.3928983463658505,\n",
       " 0.3734777592616331,\n",
       " 0.35463402127932314,\n",
       " 0.33854634021279323,\n",
       " 0.31970260223048325,\n",
       " 0.302204845532624,\n",
       " 0.28528393795667223,\n",
       " 0.27092680425586463,\n",
       " 0.2549032175362133,\n",
       " 0.23977695167286245,\n",
       " 0.22439430842199717,\n",
       " 0.20574285348032303,\n",
       " 0.1907447763107294,\n",
       " 0.1740161517754134,\n",
       " 0.1570952441994616,\n",
       " 0.1412639405204461,\n",
       " 0.13011152416356878,\n",
       " 0.12017690039738495,\n",
       " 0.11017818228432252,\n",
       " 0.10216638892449686,\n",
       " 0.09377002948339956,\n",
       " 0.08678374567363159,\n",
       " 0.08050249967952827,\n",
       " 0.07454172541981798,\n",
       " 0.06851685681322907,\n",
       " 0.0627483655941546,\n",
       " 0.05736444045635175,\n",
       " 0.05274964748109217,\n",
       " 0.047237533649532114,\n",
       " 0.04319958979617998,\n",
       " 0.03973849506473529,\n",
       " 0.03602102294577618,\n",
       " 0.03249583386745289,\n",
       " 0.029675682604794258,\n",
       " 0.026983720035892833,\n",
       " 0.024804512242020255,\n",
       " 0.022561210101269068,\n",
       " 0.01993334187924625,\n",
       " 0.017818228432252274,\n",
       " 0.01640815280092296,\n",
       " 0.014421228047686195,\n",
       " 0.012947058069478271,\n",
       " 0.011344699397513138,\n",
       " 0.009998718113062428,\n",
       " 0.008909114216126137,\n",
       " 0.007563132931675426,\n",
       " 0.006537623381617741,\n",
       " 0.006024868606588899,\n",
       " 0.005448019484681451,\n",
       " 0.004358415587745161,\n",
       " 0.0038456608127163186,\n",
       " 0.0034610947314446866,\n",
       " 0.002948339956415844,\n",
       " 0.002691962568901423,\n",
       " 0.002243302140751186,\n",
       " 0.0021792077938725804,\n",
       " 0.00205101910011537,\n",
       " 0.0019228304063581593,\n",
       " 0.0018587360594795538,\n",
       " 0.0016023586719651327,\n",
       " 0.0014100756313293167,\n",
       " 0.0013459812844507115,\n",
       " 0.0008973208563004743,\n",
       " 0.0008973208563004743,\n",
       " 0.0007691321625432636,\n",
       " 0.0006409434687860531,\n",
       " 0.0006409434687860531,\n",
       " 0.00044866042815023714,\n",
       " 0.00044866042815023714,\n",
       " 0.0003845660812716318,\n",
       " 0.00025637738751442123,\n",
       " 0.0001922830406358159,\n",
       " 0.0001922830406358159,\n",
       " 0.0001922830406358159,\n",
       " 6.409434687860531e-05,\n",
       " 6.409434687860531e-05,\n",
       " 6.409434687860531e-05,\n",
       " 6.409434687860531e-05,\n",
       " 6.409434687860531e-05]"
      ]
     },
     "execution_count": 87,
     "metadata": {},
     "output_type": "execute_result"
    }
   ],
   "source": [
    "y_data"
   ]
  },
  {
   "cell_type": "code",
   "execution_count": 90,
   "metadata": {},
   "outputs": [
    {
     "data": {
      "text/plain": [
       "2.8988113277693652"
      ]
     },
     "execution_count": 90,
     "metadata": {},
     "output_type": "execute_result"
    }
   ],
   "source": [
    "x_data[0]\n",
    "x_data[len(x_data)-1]"
   ]
  },
  {
   "cell_type": "code",
   "execution_count": 123,
   "metadata": {},
   "outputs": [],
   "source": [
    "def get_accuracy(input_dec,cdf_x,cdf_y):\n",
    "    y_len_minus_two = len(cdf_y)-2\n",
    "    abs_input_dec = abs(input_dec)\n",
    "    if abs_input_dec <= cdf_x[0]:\n",
    "        return 'highly unreliable'\n",
    "    elif abs_input_dec >= cdf_x[len(x_data)-1]:\n",
    "        return 'highly reliable'\n",
    "    else:\n",
    "        j = 0\n",
    "        while (abs_input_dec>=cdf_x[j])&(j<y_len_minus_two):\n",
    "            j=j+1\n",
    "        return 'estimated probability of error:'+str(cdf_y[j])+'.'"
   ]
  },
  {
   "cell_type": "code",
   "execution_count": 124,
   "metadata": {},
   "outputs": [
    {
     "data": {
      "text/plain": [
       "'R'"
      ]
     },
     "execution_count": 124,
     "metadata": {},
     "output_type": "execute_result"
    }
   ],
   "source": [
    "# Mitch McConnell\n",
    "in_text = \"This new bill strengthens some of the most important parts of the CARES Act, especially the popular Paycheck Protection Program which is saving millions of American jobs as we speak. And Republicans successfully kept extraneous issues out of the bill. It’s a win for the country.\"\n",
    "fun_input = list_tostring(word_tokenize(in_text))\n",
    "unigram_vectorizer = load('data_preprocessors/unigram_vectorizer.joblib')\n",
    "X_pred = bigram_vectorizer.transform([fun_input])\n",
    "X_pred = bigram_tf_idf_transformer.transform(X_pred)\n",
    "sgd_classifier = load('classifiers/sgd_classifier.joblib')\n",
    "\n",
    "result = sgd_classifier.predict(X_pred)\n",
    "result[0]"
   ]
  },
  {
   "cell_type": "code",
   "execution_count": 125,
   "metadata": {},
   "outputs": [
    {
     "data": {
      "text/plain": [
       "'estimated probability of error:0.5460197410588387.'"
      ]
     },
     "execution_count": 125,
     "metadata": {},
     "output_type": "execute_result"
    }
   ],
   "source": [
    "dec = sgd_classifier.decision_function(X_pred)\n",
    "dec\n",
    "get_accuracy(dec,x_data,y_data)"
   ]
  },
  {
   "cell_type": "code",
   "execution_count": 128,
   "metadata": {},
   "outputs": [
    {
     "data": {
      "text/plain": [
       "'D'"
      ]
     },
     "execution_count": 128,
     "metadata": {},
     "output_type": "execute_result"
    }
   ],
   "source": [
    "# Chuck Schumer\n",
    "in_text = \"Amid coronavirus—Trump admin's actively working to roll back critical protections against predatory lenders We’ll fight this—we need to crack down on loan sharks preying on the most vulnerable consumers Not let them peddle interest rates as high as 800%!\"\n",
    "fun_input = list_tostring(word_tokenize(in_text))\n",
    "unigram_vectorizer = load('data_preprocessors/unigram_vectorizer.joblib')\n",
    "X_pred = bigram_vectorizer.transform([fun_input])\n",
    "X_pred = bigram_tf_idf_transformer.transform(X_pred)\n",
    "sgd_classifier = load('classifiers/sgd_classifier.joblib')\n",
    "\n",
    "result = sgd_classifier.predict(X_pred)\n",
    "result[0]"
   ]
  },
  {
   "cell_type": "code",
   "execution_count": 129,
   "metadata": {},
   "outputs": [
    {
     "name": "stdout",
     "output_type": "stream",
     "text": [
      "[-1.22069483]\n"
     ]
    },
    {
     "data": {
      "text/plain": [
       "'estimated probability of error:0.08678374567363159.'"
      ]
     },
     "execution_count": 129,
     "metadata": {},
     "output_type": "execute_result"
    }
   ],
   "source": [
    "dec = sgd_classifier.decision_function(X_pred)\n",
    "dec\n",
    "print(dec)\n",
    "get_accuracy(dec,x_data,y_data)"
   ]
  },
  {
   "cell_type": "code",
   "execution_count": 133,
   "metadata": {},
   "outputs": [
    {
     "name": "stdout",
     "output_type": "stream",
     "text": [
      "estimated probability of error:0.5239712857325984.\n"
     ]
    }
   ],
   "source": [
    "print(get_accuracy(0.42,x_data,y_data))"
   ]
  },
  {
   "cell_type": "raw",
   "metadata": {},
   "source": []
  }
 ],
 "metadata": {
  "kernelspec": {
   "display_name": "Python 3",
   "language": "python",
   "name": "python3"
  },
  "language_info": {
   "codemirror_mode": {
    "name": "ipython",
    "version": 3
   },
   "file_extension": ".py",
   "mimetype": "text/x-python",
   "name": "python",
   "nbconvert_exporter": "python",
   "pygments_lexer": "ipython3",
   "version": "3.7.6"
  }
 },
 "nbformat": 4,
 "nbformat_minor": 4
}
