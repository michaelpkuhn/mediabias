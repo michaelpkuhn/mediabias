{
 "cells": [
  {
   "cell_type": "markdown",
   "metadata": {},
   "source": [
    "# Republican or Democrat Tweet Predictor\n",
    "\n",
    "This notebook outputs a Stocastic Gradient Decent model for predicting the pollitical party of a tweeter.  Specifically, it outputs the following files:\n"
   ]
  },
  {
   "cell_type": "code",
   "execution_count": 57,
   "metadata": {},
   "outputs": [
    {
     "name": "stderr",
     "output_type": "stream",
     "text": [
      "[nltk_data] Downloading package stopwords to C:\\Users\\Herman D\n",
      "[nltk_data]     Schaumburg\\AppData\\Roaming\\nltk_data...\n",
      "[nltk_data]   Package stopwords is already up-to-date!\n",
      "[nltk_data] Downloading package punkt to C:\\Users\\Herman D\n",
      "[nltk_data]     Schaumburg\\AppData\\Roaming\\nltk_data...\n",
      "[nltk_data]   Package punkt is already up-to-date!\n"
     ]
    },
    {
     "data": {
      "text/plain": [
       "True"
      ]
     },
     "execution_count": 57,
     "metadata": {},
     "output_type": "execute_result"
    }
   ],
   "source": [
    "import pandas as pd\n",
    "\n",
    "# Tools to remove stopwords from tweets\n",
    "import nltk\n",
    "from nltk.corpus import stopwords\n",
    "nltk.download('stopwords')\n",
    "from nltk.tokenize import word_tokenize\n",
    "nltk.download('punkt')"
   ]
  },
  {
   "cell_type": "code",
   "execution_count": 58,
   "metadata": {},
   "outputs": [],
   "source": [
    "stop_words = set(stopwords.words('english'))\n",
    "\n",
    "def fix_party_code(pc):\n",
    "    if pc == 100:\n",
    "        return 'D'\n",
    "    else:\n",
    "        return 'R'\n",
    "#    return int(pc/100-1)\n",
    "def list_tostring(input_list):\n",
    "    return ' '.join(input_list)\n",
    "\n",
    "def remove_stopwords(input_list):\n",
    "    return [w for w in input_list if not w in stop_words]\n",
    "\n",
    "def clean_tweets(input_df):\n",
    "    input_df['party_code'] = input_df['party_code'].apply(fix_party_code)\n",
    "    input_df['text'] = input_df['text'].apply(word_tokenize)\n",
    "    input_df['text'] = input_df['text'].apply(remove_stopwords)\n",
    "    input_df['text'] = input_df['text'].apply(list_tostring)    \n",
    "    return input_df"
   ]
  },
  {
   "cell_type": "code",
   "execution_count": 59,
   "metadata": {},
   "outputs": [
    {
     "data": {
      "text/html": [
       "<div>\n",
       "<style scoped>\n",
       "    .dataframe tbody tr th:only-of-type {\n",
       "        vertical-align: middle;\n",
       "    }\n",
       "\n",
       "    .dataframe tbody tr th {\n",
       "        vertical-align: top;\n",
       "    }\n",
       "\n",
       "    .dataframe thead th {\n",
       "        text-align: right;\n",
       "    }\n",
       "</style>\n",
       "<table border=\"1\" class=\"dataframe\">\n",
       "  <thead>\n",
       "    <tr style=\"text-align: right;\">\n",
       "      <th></th>\n",
       "      <th>account_id</th>\n",
       "      <th>bioguide_id</th>\n",
       "      <th>mem_name</th>\n",
       "      <th>screen_name</th>\n",
       "      <th>chamber</th>\n",
       "      <th>state_abbr</th>\n",
       "      <th>party_code</th>\n",
       "    </tr>\n",
       "  </thead>\n",
       "  <tbody>\n",
       "    <tr>\n",
       "      <th>0</th>\n",
       "      <td>37007274</td>\n",
       "      <td>Y000033</td>\n",
       "      <td>Don Young</td>\n",
       "      <td>repdonyoung</td>\n",
       "      <td>House</td>\n",
       "      <td>AK</td>\n",
       "      <td>200</td>\n",
       "    </tr>\n",
       "    <tr>\n",
       "      <th>1</th>\n",
       "      <td>2559398984</td>\n",
       "      <td>Y000033</td>\n",
       "      <td>Don Young</td>\n",
       "      <td>DonYoungAK</td>\n",
       "      <td>House</td>\n",
       "      <td>AK</td>\n",
       "      <td>200</td>\n",
       "    </tr>\n",
       "    <tr>\n",
       "      <th>2</th>\n",
       "      <td>2253968388</td>\n",
       "      <td>B001289</td>\n",
       "      <td>Bradley Byrne</td>\n",
       "      <td>RepByrne</td>\n",
       "      <td>House</td>\n",
       "      <td>AL</td>\n",
       "      <td>200</td>\n",
       "    </tr>\n",
       "    <tr>\n",
       "      <th>3</th>\n",
       "      <td>42481696</td>\n",
       "      <td>B001289</td>\n",
       "      <td>Bradley Byrne</td>\n",
       "      <td>BradleyByrne</td>\n",
       "      <td>House</td>\n",
       "      <td>AL</td>\n",
       "      <td>200</td>\n",
       "    </tr>\n",
       "    <tr>\n",
       "      <th>4</th>\n",
       "      <td>2861616083</td>\n",
       "      <td>P000609</td>\n",
       "      <td>Gary Palmer</td>\n",
       "      <td>USRepGaryPalmer</td>\n",
       "      <td>House</td>\n",
       "      <td>AL</td>\n",
       "      <td>200</td>\n",
       "    </tr>\n",
       "  </tbody>\n",
       "</table>\n",
       "</div>"
      ],
      "text/plain": [
       "   account_id bioguide_id       mem_name      screen_name chamber state_abbr  \\\n",
       "0    37007274     Y000033      Don Young      repdonyoung   House         AK   \n",
       "1  2559398984     Y000033      Don Young       DonYoungAK   House         AK   \n",
       "2  2253968388     B001289  Bradley Byrne         RepByrne   House         AL   \n",
       "3    42481696     B001289  Bradley Byrne     BradleyByrne   House         AL   \n",
       "4  2861616083     P000609    Gary Palmer  USRepGaryPalmer   House         AL   \n",
       "\n",
       "   party_code  \n",
       "0         200  \n",
       "1         200  \n",
       "2         200  \n",
       "3         200  \n",
       "4         200  "
      ]
     },
     "execution_count": 59,
     "metadata": {},
     "output_type": "execute_result"
    }
   ],
   "source": [
    "party_code_df = pd.read_csv(\"partycode.csv\")\n",
    "party_code_df.head()"
   ]
  },
  {
   "cell_type": "code",
   "execution_count": 60,
   "metadata": {},
   "outputs": [],
   "source": [
    "party_dict = party_code_df[['party_code','account_id']].set_index('account_id').to_dict()\n",
    "party_dict = party_dict['party_code']"
   ]
  },
  {
   "cell_type": "code",
   "execution_count": 61,
   "metadata": {},
   "outputs": [
    {
     "name": "stdout",
     "output_type": "stream",
     "text": [
      "Training day consists of 15750.0 tweets.\n"
     ]
    }
   ],
   "source": [
    "# Specify dates for training data\n",
    "dates = pd.date_range(start='4/10/2020', end='4/30/2020')\n",
    "dates = [str(date)[0:10] for date in dates]\n",
    "\n",
    "# Specify number of samples per day per party\n",
    "date_samples = 1000\n",
    "# date_samples = 200\n",
    "print('Training data consists of '+str(date_samples*0.75*len(dates))+' tweets.')"
   ]
  },
  {
   "cell_type": "code",
   "execution_count": 62,
   "metadata": {},
   "outputs": [
    {
     "name": "stdout",
     "output_type": "stream",
     "text": [
      "2020-04-10\n",
      "2020-04-11\n",
      "2020-04-12\n",
      "2020-04-13\n",
      "2020-04-14\n",
      "2020-04-15\n",
      "2020-04-16\n",
      "2020-04-17\n",
      "2020-04-18\n",
      "2020-04-19\n",
      "2020-04-20\n",
      "2020-04-21\n",
      "2020-04-22\n",
      "2020-04-23\n",
      "2020-04-24\n",
      "2020-04-25\n",
      "2020-04-26\n",
      "2020-04-27\n",
      "2020-04-28\n",
      "2020-04-29\n",
      "2020-04-30\n"
     ]
    }
   ],
   "source": [
    "# Create empty dataframe\n",
    "train_df = pd.DataFrame(columns=['text','party_code'])\n",
    "\n",
    "for date in dates:\n",
    "    date_str = date\n",
    "    print(date)\n",
    "    example_tweets = pd.read_json(\"mediabias_main/congresstweets/data/\"+date_str+\".json\")\n",
    "    example_tweets[\"party_code\"] = example_tweets[\"user_id\"]\n",
    "    example_tweets = example_tweets.replace({\"party_code\":party_dict})\n",
    "    date_train_data = example_tweets[(example_tweets['party_code']!=100)|(example_tweets['party_code']!=200)][['text','party_code']]\n",
    "    # Rearrange rows\n",
    "    date_train_data = date_train_data.sample(frac=1)\n",
    "    date_train_data_R=date_train_data[date_train_data['party_code']==200].head(date_samples)\n",
    "    date_train_data_D=date_train_data[date_train_data['party_code']==100].head(date_samples)\n",
    "    # Remove stop words and fix party code\n",
    "    date_train_data = clean_tweets(date_train_data_D.append(date_train_data_R, ignore_index=True))\n",
    "    #if date == date[0]:\n",
    "    #    train_df = date_train_data\n",
    "    #else:\n",
    "    train_df = train_df.append(date_train_data)#, ignore_index=True)"
   ]
  },
  {
   "cell_type": "code",
   "execution_count": 63,
   "metadata": {},
   "outputs": [],
   "source": [
    "train_df = train_df.reset_index(drop=True)"
   ]
  },
  {
   "cell_type": "markdown",
   "metadata": {},
   "source": [
    "# Text Vectorization"
   ]
  },
  {
   "cell_type": "code",
   "execution_count": 64,
   "metadata": {},
   "outputs": [],
   "source": [
    "from os import system\n",
    "from sklearn.linear_model import SGDClassifier\n",
    "from sklearn.model_selection import train_test_split\n",
    "from scipy.sparse import csr_matrix\n",
    "import numpy as np\n",
    "from sklearn.feature_extraction.text import CountVectorizer, TfidfTransformer\n",
    "from joblib import dump, load # used for saving and loading sklearn objects\n",
    "from scipy.sparse import save_npz, load_npz # used for saving and loading sparse matrices"
   ]
  },
  {
   "cell_type": "code",
   "execution_count": 65,
   "metadata": {},
   "outputs": [
    {
     "data": {
      "text/plain": [
       "CountVectorizer(analyzer='word', binary=False, decode_error='strict',\n",
       "                dtype=<class 'numpy.int64'>, encoding='utf-8', input='content',\n",
       "                lowercase=True, max_df=1.0, max_features=None, min_df=1,\n",
       "                ngram_range=(1, 1), preprocessor=None, stop_words=None,\n",
       "                strip_accents=None, token_pattern='(?u)\\\\b\\\\w\\\\w+\\\\b',\n",
       "                tokenizer=None, vocabulary=None)"
      ]
     },
     "execution_count": 65,
     "metadata": {},
     "output_type": "execute_result"
    }
   ],
   "source": [
    "system(\"mkdir data_preprocessors\")\n",
    "system(\"mkdir vectorized_data\")\n",
    "\n",
    "# Unigram Counts\n",
    "unigram_vectorizer = CountVectorizer(ngram_range=(1, 1))\n",
    "unigram_vectorizer.fit(train_df['text'].values)"
   ]
  },
  {
   "cell_type": "code",
   "execution_count": 66,
   "metadata": {},
   "outputs": [
    {
     "data": {
      "text/plain": [
       "['data_preprocessors/unigram_vectorizer.joblib']"
      ]
     },
     "execution_count": 66,
     "metadata": {},
     "output_type": "execute_result"
    }
   ],
   "source": [
    "dump(unigram_vectorizer, 'data_preprocessors/unigram_vectorizer.joblib')"
   ]
  },
  {
   "cell_type": "code",
   "execution_count": 67,
   "metadata": {},
   "outputs": [],
   "source": [
    "# unigram_vectorizer = load('data_preprocessors/unigram_vectorizer.joblib')\n",
    "\n",
    "X_train_unigram = unigram_vectorizer.transform(train_df['text'].values)\n",
    "save_npz('vectorized_data/X_train_unigram.npz', X_train_unigram)"
   ]
  },
  {
   "cell_type": "code",
   "execution_count": 68,
   "metadata": {},
   "outputs": [
    {
     "data": {
      "text/plain": [
       "['data_preprocessors/unigram_tf_idf_transformer.joblib']"
      ]
     },
     "execution_count": 68,
     "metadata": {},
     "output_type": "execute_result"
    }
   ],
   "source": [
    "# Unigram Tf-Idf\n",
    "\n",
    "unigram_tf_idf_transformer = TfidfTransformer()\n",
    "unigram_tf_idf_transformer.fit(X_train_unigram)\n",
    "\n",
    "dump(unigram_tf_idf_transformer, 'data_preprocessors/unigram_tf_idf_transformer.joblib')"
   ]
  },
  {
   "cell_type": "code",
   "execution_count": 69,
   "metadata": {},
   "outputs": [],
   "source": [
    "X_train_unigram_tf_idf = unigram_tf_idf_transformer.transform(X_train_unigram)\n",
    "\n",
    "save_npz('vectorized_data/X_train_unigram_tf_idf.npz', X_train_unigram_tf_idf)"
   ]
  },
  {
   "cell_type": "code",
   "execution_count": 70,
   "metadata": {},
   "outputs": [
    {
     "data": {
      "text/plain": [
       "['data_preprocessors/bigram_vectorizer.joblib']"
      ]
     },
     "execution_count": 70,
     "metadata": {},
     "output_type": "execute_result"
    }
   ],
   "source": [
    "# Bigram Counts\n",
    "\n",
    "bigram_vectorizer = CountVectorizer(ngram_range=(1, 2))\n",
    "bigram_vectorizer.fit(train_df['text'].values)\n",
    "\n",
    "dump(bigram_vectorizer, 'data_preprocessors/bigram_vectorizer.joblib')"
   ]
  },
  {
   "cell_type": "code",
   "execution_count": 71,
   "metadata": {},
   "outputs": [],
   "source": [
    "X_train_bigram = bigram_vectorizer.transform(train_df['text'].values)\n",
    "\n",
    "save_npz('vectorized_data/X_train_bigram.npz', X_train_bigram)"
   ]
  },
  {
   "cell_type": "code",
   "execution_count": 72,
   "metadata": {},
   "outputs": [
    {
     "data": {
      "text/plain": [
       "['data_preprocessors/bigram_tf_idf_transformer.joblib']"
      ]
     },
     "execution_count": 72,
     "metadata": {},
     "output_type": "execute_result"
    }
   ],
   "source": [
    "bigram_tf_idf_transformer = TfidfTransformer()\n",
    "bigram_tf_idf_transformer.fit(X_train_bigram)\n",
    "\n",
    "dump(bigram_tf_idf_transformer, 'data_preprocessors/bigram_tf_idf_transformer.joblib')"
   ]
  },
  {
   "cell_type": "code",
   "execution_count": 73,
   "metadata": {},
   "outputs": [],
   "source": [
    "X_train_bigram_tf_idf = bigram_tf_idf_transformer.transform(X_train_bigram)\n",
    "\n",
    "save_npz('vectorized_data/X_train_bigram_tf_idf.npz', X_train_bigram_tf_idf)"
   ]
  },
  {
   "cell_type": "markdown",
   "metadata": {},
   "source": [
    "# SGDClassifier"
   ]
  },
  {
   "cell_type": "code",
   "execution_count": 74,
   "metadata": {},
   "outputs": [],
   "source": [
    "def train_and_show_scores(X: csr_matrix, y: np.array, title: str) -> None:\n",
    "    X_train, X_valid, y_train, y_valid = train_test_split(\n",
    "        X, y, train_size=0.75, stratify=y\n",
    "    )\n",
    "\n",
    "    clf = SGDClassifier()\n",
    "    clf.fit(X_train, y_train)\n",
    "    train_score = clf.score(X_train, y_train)\n",
    "    valid_score = clf.score(X_valid, y_valid)\n",
    "    print(f'{title}\\nTrain score: {round(train_score, 2)} ; Validation score: {round(valid_score, 2)}\\n')\n",
    "\n",
    "y_train = train_df['party_code'].values"
   ]
  },
  {
   "cell_type": "code",
   "execution_count": 75,
   "metadata": {},
   "outputs": [
    {
     "name": "stdout",
     "output_type": "stream",
     "text": [
      "Unigram Counts\n",
      "Train score: 0.98 ; Validation score: 0.85\n",
      "\n",
      "Unigram Tf-Idf\n",
      "Train score: 0.91 ; Validation score: 0.84\n",
      "\n",
      "Bigram Counts\n",
      "Train score: 1.0 ; Validation score: 0.85\n",
      "\n",
      "Bigram Tf-Idf\n",
      "Train score: 0.94 ; Validation score: 0.83\n",
      "\n"
     ]
    }
   ],
   "source": [
    "train_and_show_scores(X_train_unigram, y_train, 'Unigram Counts')\n",
    "train_and_show_scores(X_train_unigram_tf_idf, y_train, 'Unigram Tf-Idf')\n",
    "train_and_show_scores(X_train_bigram, y_train, 'Bigram Counts')\n",
    "train_and_show_scores(X_train_bigram_tf_idf, y_train, 'Bigram Tf-Idf')"
   ]
  },
  {
   "cell_type": "markdown",
   "metadata": {},
   "source": [
    "# Using Cross-Validation for hyperparameter tuning"
   ]
  },
  {
   "cell_type": "code",
   "execution_count": 76,
   "metadata": {},
   "outputs": [
    {
     "name": "stdout",
     "output_type": "stream",
     "text": [
      "Best params: {'eta0': 0.0027730188375447097, 'learning_rate': 'optimal', 'loss': 'modified_huber'}\n",
      "Best score: 0.8307056312216291\n"
     ]
    }
   ],
   "source": [
    "\n",
    "from sklearn.model_selection import RandomizedSearchCV\n",
    "from scipy.stats import uniform\n",
    "\n",
    "X_train = X_train_bigram_tf_idf\n",
    "\n",
    "\n",
    "# Phase 1: loss, learning rate and initial learning rate\n",
    "\n",
    "clf = SGDClassifier()\n",
    "\n",
    "distributions = dict(\n",
    "    loss=['hinge', 'log', 'modified_huber', 'squared_hinge', 'perceptron'],\n",
    "    learning_rate=['optimal', 'invscaling', 'adaptive'],\n",
    "    eta0=uniform(loc=1e-7, scale=1e-2)\n",
    ")\n",
    "\n",
    "random_search_cv = RandomizedSearchCV(\n",
    "    estimator=clf,\n",
    "    param_distributions=distributions,\n",
    "    cv=5,\n",
    "    n_iter=50\n",
    ")\n",
    "random_search_cv.fit(X_train, y_train)\n",
    "print(f'Best params: {random_search_cv.best_params_}')\n",
    "print(f'Best score: {random_search_cv.best_score_}')"
   ]
  },
  {
   "cell_type": "code",
   "execution_count": 77,
   "metadata": {},
   "outputs": [
    {
     "name": "stdout",
     "output_type": "stream",
     "text": [
      "Best params: {'alpha': 8.22563552077361e-06, 'penalty': 'l2'}\n",
      "Best score: 0.8417513684983096\n"
     ]
    }
   ],
   "source": [
    "# Phase 2: penalty and alpha\n",
    "\n",
    "clf = SGDClassifier()\n",
    "\n",
    "distributions = dict(\n",
    "    penalty=['l1', 'l2', 'elasticnet'],\n",
    "    alpha=uniform(loc=1e-6, scale=1e-4)\n",
    ")\n",
    "\n",
    "random_search_cv = RandomizedSearchCV(\n",
    "    estimator=clf,\n",
    "    param_distributions=distributions,\n",
    "    cv=5,\n",
    "    n_iter=50\n",
    ")\n",
    "random_search_cv.fit(X_train, y_train)\n",
    "print(f'Best params: {random_search_cv.best_params_}')\n",
    "print(f'Best score: {random_search_cv.best_score_}')"
   ]
  },
  {
   "cell_type": "markdown",
   "metadata": {},
   "source": [
    "## Saving best classifier"
   ]
  },
  {
   "cell_type": "code",
   "execution_count": 78,
   "metadata": {},
   "outputs": [
    {
     "data": {
      "text/plain": [
       "['classifiers/sgd_classifier.joblib']"
      ]
     },
     "execution_count": 78,
     "metadata": {},
     "output_type": "execute_result"
    }
   ],
   "source": [
    "system(\"mkdir classifiers\")\n",
    "\n",
    "sgd_classifier = random_search_cv.best_estimator_\n",
    "\n",
    "dump(random_search_cv.best_estimator_, 'classifiers/sgd_classifier.joblib')\n",
    "\n",
    "# sgd_classifier = load('classifiers/sgd_classifier.joblib')"
   ]
  },
  {
   "cell_type": "markdown",
   "metadata": {},
   "source": [
    "# Testing Classifier"
   ]
  },
  {
   "cell_type": "code",
   "execution_count": 79,
   "metadata": {},
   "outputs": [],
   "source": [
    "# Gather test data\n",
    "# Create empty dataframe\n",
    "test_df = pd.DataFrame(columns=['text','party_code'])\n",
    "\n",
    "# Specify dates for test data\n",
    "test_dates = pd.date_range(start='4/29/2020', end='5/3/2020')\n",
    "test_dates = [str(date)[0:10] for date in dates]\n",
    "\n",
    "for date in test_dates:\n",
    "    date_str = date\n",
    "    example_tweets = pd.read_json(\"mediabias_main/congresstweets/data/\"+date_str+\".json\")\n",
    "    example_tweets[\"party_code\"] = example_tweets[\"user_id\"]\n",
    "    example_tweets = example_tweets.replace({\"party_code\":party_dict})\n",
    "    date_test_data = example_tweets[(example_tweets['party_code']!=100)|(example_tweets['party_code']!=200)][['text','party_code']]\n",
    "    date_test_data = clean_tweets(date_test_data)\n",
    "    #if date == date[0]:\n",
    "    #    train_df = date_train_data\n",
    "    #else:\n",
    "    test_df = test_df.append(date_test_data)#, ignore_index=True)\n",
    "test_df = test_df.reset_index(drop=True)"
   ]
  },
  {
   "cell_type": "code",
   "execution_count": 80,
   "metadata": {},
   "outputs": [
    {
     "name": "stdout",
     "output_type": "stream",
     "text": [
      "0.8482770444025373\n"
     ]
    }
   ],
   "source": [
    "X_test = bigram_vectorizer.transform(test_df['text'].values)\n",
    "X_test = bigram_tf_idf_transformer.transform(X_test)\n",
    "#X_test = unigram_tf_idf_transformer.transform(X_test)\n",
    "y_test = test_df['party_code'].values\n",
    "\n",
    "score = sgd_classifier.score(X_test, y_test)\n",
    "print(score)"
   ]
  },
  {
   "cell_type": "code",
   "execution_count": 82,
   "metadata": {},
   "outputs": [
    {
     "data": {
      "text/plain": [
       "(64163, 3)"
      ]
     },
     "execution_count": 82,
     "metadata": {},
     "output_type": "execute_result"
    }
   ],
   "source": [
    "test_df.shape"
   ]
  },
  {
   "cell_type": "code",
   "execution_count": 83,
   "metadata": {},
   "outputs": [],
   "source": [
    "test_df['prediction'] = test_df['text']\n",
    "def predict_out(thing):\n",
    "    input = bigram_tf_idf_transformer.transform(bigram_vectorizer.transform([thing]))\n",
    "    return sgd_classifier.predict(input)[0]\n",
    "test_df['prediction'] = test_df['prediction'].apply(predict_out)\n",
    "#test_df['decision'] = test_df['vectorize'].apply(sgd_classifier.decision_function)"
   ]
  },
  {
   "cell_type": "code",
   "execution_count": 85,
   "metadata": {},
   "outputs": [],
   "source": [
    "test_df['decision'] = test_df['text']\n",
    "def the_decision(thing):\n",
    "    input = bigram_tf_idf_transformer.transform(bigram_vectorizer.transform([thing]))\n",
    "    return sgd_classifier.decision_function(input)[0]\n",
    "test_df['decision'] = test_df['decision'].apply(the_decision)"
   ]
  },
  {
   "cell_type": "code",
   "execution_count": 105,
   "metadata": {},
   "outputs": [
    {
     "name": "stdout",
     "output_type": "stream",
     "text": [
      "  (0, 599005)\t0.13724572483536815\n",
      "  (0, 598951)\t0.10656565688654346\n",
      "  (0, 597099)\t0.07127021892848737\n",
      "  (0, 596894)\t0.0696688776808445\n",
      "  (0, 596846)\t0.0835728977646812\n",
      "  (0, 596744)\t0.07270567427770662\n",
      "  (0, 581647)\t0.08857473689547032\n",
      "  (0, 581646)\t0.08857473689547032\n",
      "  (0, 568348)\t0.21930758305074324\n",
      "  (0, 568331)\t0.1444337225102922\n",
      "  (0, 548752)\t0.08863406696726873\n",
      "  (0, 548751)\t0.07262509899905804\n",
      "  (0, 540410)\t0.15026869719824917\n",
      "  (0, 490821)\t0.17796019880163338\n",
      "  (0, 490349)\t0.04953890780620524\n",
      "  (0, 463264)\t0.13594021526684116\n",
      "  (0, 453481)\t0.08854354953393861\n",
      "  (0, 453480)\t0.08889479295455144\n",
      "  (0, 453479)\t0.17708709906787723\n",
      "  (0, 428661)\t0.04428736844773516\n",
      "  (0, 428648)\t0.044257304066997766\n",
      "  (0, 416758)\t0.11230604339049131\n",
      "  (0, 393887)\t0.1256770018906141\n",
      "  (0, 393424)\t0.06886368196981775\n",
      "  (0, 386663)\t0.07274918547976898\n",
      "  :\t:\n",
      "  (0, 284465)\t0.06845672589731193\n",
      "  (0, 279073)\t0.1042605659520567\n",
      "  (0, 270090)\t0.197403356517461\n",
      "  (0, 269808)\t0.06095779986186125\n",
      "  (0, 264594)\t0.22553677206372305\n",
      "  (0, 263897)\t0.07501673750245016\n",
      "  (0, 244482)\t0.20174848543267823\n",
      "  (0, 244455)\t0.14392818129928583\n",
      "  (0, 235640)\t0.08889479295455144\n",
      "  (0, 234292)\t0.08854354953393861\n",
      "  (0, 186442)\t0.12139715198662977\n",
      "  (0, 160041)\t0.18797740055322404\n",
      "  (0, 159900)\t0.06743504945384413\n",
      "  (0, 153514)\t0.22553677206372305\n",
      "  (0, 153499)\t0.169449635211002\n",
      "  (0, 149622)\t0.22553677206372305\n",
      "  (0, 149559)\t0.13375117785097784\n",
      "  (0, 138841)\t0.08889479295455144\n",
      "  (0, 138840)\t0.08854354953393861\n",
      "  (0, 137493)\t0.061589266257074136\n",
      "  (0, 115238)\t0.17113773893404335\n",
      "  (0, 114848)\t0.15961363143417984\n",
      "  (0, 114777)\t0.1199189434487429\n",
      "  (0, 37449)\t0.0835728977646812\n",
      "  (0, 1977)\t0.07990208349895789\n"
     ]
    }
   ],
   "source": [
    "print(X_test[0])"
   ]
  },
  {
   "cell_type": "code",
   "execution_count": 87,
   "metadata": {},
   "outputs": [
    {
     "data": {
      "image/png": "[encoded data removed]",
      "text/plain": [
       "<Figure size 432x288 with 1 Axes>"
      ]
     },
     "metadata": {
      "needs_background": "light"
     },
     "output_type": "display_data"
    }
   ],
   "source": [
    "ax = test_df['decision'].hist(bins=100)  # s is an instance of Series\n",
    "fig = ax.get_figure()\n",
    "fig.savefig('histogram.svg')\n",
    "fig.savefig('histogram.png')"
   ]
  },
  {
   "cell_type": "code",
   "execution_count": 88,
   "metadata": {},
   "outputs": [],
   "source": [
    "from scipy import stats\n",
    "import numpy as np"
   ]
  },
  {
   "cell_type": "code",
   "execution_count": 89,
   "metadata": {},
   "outputs": [],
   "source": [
    "k2, p = stats.normaltest(test_df['decision'].tolist())\n",
    "# a = np.random.normal(0, 1, size=100000)\n",
    "# k2, p = stats.normaltest(a)"
   ]
  },
  {
   "cell_type": "code",
   "execution_count": 90,
   "metadata": {},
   "outputs": [],
   "source": [
    "alpha = 5e-2"
   ]
  },
  {
   "cell_type": "code",
   "execution_count": 91,
   "metadata": {},
   "outputs": [
    {
     "name": "stdout",
     "output_type": "stream",
     "text": [
      "p = 0\n"
     ]
    }
   ],
   "source": [
    "print(\"p = {:g}\".format(p))"
   ]
  },
  {
   "cell_type": "code",
   "execution_count": 92,
   "metadata": {},
   "outputs": [
    {
     "name": "stdout",
     "output_type": "stream",
     "text": [
      "The null hypothesis can be rejected\n"
     ]
    }
   ],
   "source": [
    "if p < alpha:  # null hypothesis: x comes from a normal distribution\n",
    "    print(\"The null hypothesis can be rejected\")\n",
    "else:\n",
    "    print(\"The null hypothesis cannot be rejected\")"
   ]
  },
  {
   "cell_type": "code",
   "execution_count": 93,
   "metadata": {},
   "outputs": [
    {
     "name": "stderr",
     "output_type": "stream",
     "text": [
      "C:\\Anaconda3\\lib\\site-packages\\ipykernel_launcher.py:2: SettingWithCopyWarning: \n",
      "A value is trying to be set on a copy of a slice from a DataFrame.\n",
      "Try using .loc[row_indexer,col_indexer] = value instead\n",
      "\n",
      "See the caveats in the documentation: https://pandas.pydata.org/pandas-docs/stable/user_guide/indexing.html#returning-a-view-versus-a-copy\n",
      "  \n"
     ]
    },
    {
     "data": {
      "text/html": [
       "<div>\n",
       "<style scoped>\n",
       "    .dataframe tbody tr th:only-of-type {\n",
       "        vertical-align: middle;\n",
       "    }\n",
       "\n",
       "    .dataframe tbody tr th {\n",
       "        vertical-align: top;\n",
       "    }\n",
       "\n",
       "    .dataframe thead th {\n",
       "        text-align: right;\n",
       "    }\n",
       "</style>\n",
       "<table border=\"1\" class=\"dataframe\">\n",
       "  <thead>\n",
       "    <tr style=\"text-align: right;\">\n",
       "      <th></th>\n",
       "      <th>text</th>\n",
       "      <th>party_code</th>\n",
       "      <th>prediction</th>\n",
       "      <th>decision</th>\n",
       "    </tr>\n",
       "  </thead>\n",
       "  <tbody>\n",
       "    <tr>\n",
       "      <th>14</th>\n",
       "      <td>RT @ abbybroyles Today I filed run US Senate m...</td>\n",
       "      <td>D</td>\n",
       "      <td>R</td>\n",
       "      <td>0.573631</td>\n",
       "    </tr>\n",
       "    <tr>\n",
       "      <th>26</th>\n",
       "      <td>Coronavirus leading cause death US . If still ...</td>\n",
       "      <td>D</td>\n",
       "      <td>R</td>\n",
       "      <td>0.064032</td>\n",
       "    </tr>\n",
       "    <tr>\n",
       "      <th>27</th>\n",
       "      <td>@ MowliidAHassan @ DrTedros @ WHO It important...</td>\n",
       "      <td>D</td>\n",
       "      <td>R</td>\n",
       "      <td>0.474074</td>\n",
       "    </tr>\n",
       "    <tr>\n",
       "      <th>65</th>\n",
       "      <td>Mike Field dedicated life others . He EMT scen...</td>\n",
       "      <td>D</td>\n",
       "      <td>R</td>\n",
       "      <td>0.015497</td>\n",
       "    </tr>\n",
       "    <tr>\n",
       "      <th>78</th>\n",
       "      <td>RT @ CDCgov Wearing cloth face covering CORREC...</td>\n",
       "      <td>R</td>\n",
       "      <td>D</td>\n",
       "      <td>1.130982</td>\n",
       "    </tr>\n",
       "    <tr>\n",
       "      <th>...</th>\n",
       "      <td>...</td>\n",
       "      <td>...</td>\n",
       "      <td>...</td>\n",
       "      <td>...</td>\n",
       "    </tr>\n",
       "    <tr>\n",
       "      <th>64144</th>\n",
       "      <td>RT @ TorunnSinclair . @ christyforCA25 n't rec...</td>\n",
       "      <td>R</td>\n",
       "      <td>D</td>\n",
       "      <td>0.169626</td>\n",
       "    </tr>\n",
       "    <tr>\n",
       "      <th>64145</th>\n",
       "      <td>RT @ TorunnSinclair There PUBLIC RECORDS Newha...</td>\n",
       "      <td>R</td>\n",
       "      <td>D</td>\n",
       "      <td>0.815755</td>\n",
       "    </tr>\n",
       "    <tr>\n",
       "      <th>64148</th>\n",
       "      <td>Did Gov . Ducey make mistake opening state inc...</td>\n",
       "      <td>R</td>\n",
       "      <td>D</td>\n",
       "      <td>0.003236</td>\n",
       "    </tr>\n",
       "    <tr>\n",
       "      <th>64152</th>\n",
       "      <td>RT @ HispanicCaucus . @ HispanicCaucus Demands...</td>\n",
       "      <td>R</td>\n",
       "      <td>D</td>\n",
       "      <td>1.173668</td>\n",
       "    </tr>\n",
       "    <tr>\n",
       "      <th>64155</th>\n",
       "      <td>Some best news April : @ andersoncooper father...</td>\n",
       "      <td>D</td>\n",
       "      <td>R</td>\n",
       "      <td>0.183728</td>\n",
       "    </tr>\n",
       "  </tbody>\n",
       "</table>\n",
       "<p>9735 rows × 4 columns</p>\n",
       "</div>"
      ],
      "text/plain": [
       "                                                    text party_code  \\\n",
       "14     RT @ abbybroyles Today I filed run US Senate m...          D   \n",
       "26     Coronavirus leading cause death US . If still ...          D   \n",
       "27     @ MowliidAHassan @ DrTedros @ WHO It important...          D   \n",
       "65     Mike Field dedicated life others . He EMT scen...          D   \n",
       "78     RT @ CDCgov Wearing cloth face covering CORREC...          R   \n",
       "...                                                  ...        ...   \n",
       "64144  RT @ TorunnSinclair . @ christyforCA25 n't rec...          R   \n",
       "64145  RT @ TorunnSinclair There PUBLIC RECORDS Newha...          R   \n",
       "64148  Did Gov . Ducey make mistake opening state inc...          R   \n",
       "64152  RT @ HispanicCaucus . @ HispanicCaucus Demands...          R   \n",
       "64155  Some best news April : @ andersoncooper father...          D   \n",
       "\n",
       "      prediction  decision  \n",
       "14             R  0.573631  \n",
       "26             R  0.064032  \n",
       "27             R  0.474074  \n",
       "65             R  0.015497  \n",
       "78             D  1.130982  \n",
       "...          ...       ...  \n",
       "64144          D  0.169626  \n",
       "64145          D  0.815755  \n",
       "64148          D  0.003236  \n",
       "64152          D  1.173668  \n",
       "64155          R  0.183728  \n",
       "\n",
       "[9735 rows x 4 columns]"
      ]
     },
     "execution_count": 93,
     "metadata": {},
     "output_type": "execute_result"
    }
   ],
   "source": [
    "error_df = test_df[test_df['prediction']!=test_df['party_code']]\n",
    "error_df['decision']=error_df['decision'].apply(abs)\n",
    "error_df"
   ]
  },
  {
   "cell_type": "code",
   "execution_count": 94,
   "metadata": {},
   "outputs": [
    {
     "name": "stdout",
     "output_type": "stream",
     "text": [
      "total errors: 9735\n",
      "accuracy/score check: 0.8482770444025373\n"
     ]
    }
   ],
   "source": [
    "total_errors = len(error_df)\n",
    "print(f'total errors: {total_errors}')\n",
    "print(f'accuracy/score check: {(len(test_df)-total_errors)/len(test_df)}')\n",
    "num_data_points = 100\n",
    "x_min = error_df['decision'].min()\n",
    "x_max = error_df['decision'].max()\n",
    "del_diff = (x_max - x_min)/num_data_points\n",
    "x_data = [x_min+del_diff*j for j in range(0,num_data_points)]\n",
    "y_data = [len(error_df[error_df['decision']>=x_data[j]])/total_errors\n",
    "          for j in range(0,num_data_points)]"
   ]
  },
  {
   "cell_type": "code",
   "execution_count": 95,
   "metadata": {},
   "outputs": [
    {
     "name": "stdout",
     "output_type": "stream",
     "text": [
      "[3.70016628986336e-05, 0.032466992907313155, 0.06489698415172768, 0.0973269753961422, 0.12975696664055672, 0.16218695788497126, 0.19461694912938576, 0.22704694037380027, 0.25947693161821483, 0.2919069228626293, 0.3243369141070439, 0.3567669053514584, 0.38919689659587287, 0.42162688784028746, 0.45405687908470194, 0.4864868703291164, 0.518916861573531, 0.5513468528179455, 0.5837768440623601, 0.6162068353067746, 0.6486368265511891, 0.6810668177956036, 0.7134968090400181, 0.7459268002844327, 0.7783567915288472, 0.8107867827732617, 0.8432167740176763, 0.8756467652620907, 0.9080767565065052, 0.9405067477509198, 0.9729367389953343, 1.0053667302397487, 1.0377967214841632, 1.0702267127285778, 1.1026567039729922, 1.1350866952174068, 1.1675166864618214, 1.1999466777062358, 1.2323766689506503, 1.264806660195065, 1.2972366514394795, 1.329666642683894, 1.3620966339283085, 1.394526625172723, 1.4269566164171374, 1.459386607661552, 1.4918165989059666, 1.524246590150381, 1.5566765813947956, 1.5891065726392102, 1.6215365638836245, 1.6539665551280391, 1.6863965463724537, 1.718826537616868, 1.7512565288612827, 1.7836865201056973, 1.8161165113501117, 1.8485465025945262, 1.8809764938389408, 1.9134064850833554, 1.9458364763277698, 1.9782664675721844, 2.0106964588165988, 2.0431264500610133, 2.075556441305428, 2.1079864325498425, 2.140416423794257, 2.1728464150386717, 2.205276406283086, 2.2377063975275004, 2.270136388771915, 2.3025663800163296, 2.334996371260744, 2.367426362505159, 2.399856353749573, 2.4322863449939875, 2.464716336238402, 2.4971463274828167, 2.5295763187272313, 2.562006309971646, 2.5944363012160605, 2.6268662924604747, 2.6592962837048892, 2.691726274949304, 2.7241562661937184, 2.756586257438133, 2.7890162486825476, 2.8214462399269618, 2.8538762311713763, 2.886306222415791, 2.9187362136602055, 2.95116620490462, 2.9835961961490347, 3.016026187393449, 3.0484561786378634, 3.080886169882278, 3.1133161611266926, 3.145746152371107, 3.178176143615522, 3.2106061348599364]\n",
      "[1.0, 0.9792501284026708, 0.9602465331278891, 0.9379558294812532, 0.9168977914740627, 0.8989214175654854, 0.8779661016949153, 0.8598870056497175, 0.8427324088341037, 0.8229070364663585, 0.8054442732408834, 0.7889060092449923, 0.770929635336415, 0.7544940934771444, 0.7389830508474576, 0.7216230097586029, 0.706728299948639, 0.6898818695428864, 0.6718027734976888, 0.6535182331792502, 0.6367745249101181, 0.622085259373395, 0.6038007190549564, 0.5878787878787879, 0.5719568567026194, 0.5528505392912173, 0.5344632768361582, 0.5186440677966102, 0.5008731381612738, 0.4805341551104263, 0.4586543400102722, 0.43235747303543914, 0.3989727786337956, 0.3694915254237288, 0.338366718027735, 0.30929635336414996, 0.28433487416538267, 0.2652285567539805, 0.24632768361581922, 0.23030303030303031, 0.21222393425783256, 0.19835644581407294, 0.18418079096045198, 0.17236774524910117, 0.15983564458140728, 0.1480225988700565, 0.1359013867488444, 0.1263482280431433, 0.11669234720082178, 0.1076527991782229, 0.09820236260914227, 0.09090909090909091, 0.08330765279917822, 0.07580893682588598, 0.06954288649203903, 0.06481766820749872, 0.05814072932717001, 0.05310734463276836, 0.04940934771443246, 0.046019517205957886, 0.041397021058038004, 0.037596302003081665, 0.03369286081150488, 0.03020030816640986, 0.027632254750898817, 0.025475089881869542, 0.0229070364663585, 0.020338983050847456, 0.018798151001540832, 0.017257318952234205, 0.01561376476630714, 0.014175654853620955, 0.012737544940934771, 0.01140215716486903, 0.010580380071905496, 0.00965588084232152, 0.008834103749357987, 0.007909604519774011, 0.007190549563430919, 0.0064714946070878274, 0.005957883923985619, 0.005546995377503852, 0.005033384694401644, 0.004417051874678993, 0.004006163328197226, 0.0035952747817154596, 0.0031843862352336928, 0.002876219825372368, 0.002362609142270159, 0.0019517205957883925, 0.001438109912686184, 0.0011299435028248588, 0.001027221366204417, 0.0008217770929635337, 0.0006163328197226503, 0.00041088854648176684, 0.00041088854648176684, 0.00020544427324088342, 0.00020544427324088342, 0.00020544427324088342]\n"
     ]
    }
   ],
   "source": [
    "print(x_data)\n",
    "print(y_data)"
   ]
  },
  {
   "cell_type": "code",
   "execution_count": 96,
   "metadata": {},
   "outputs": [
    {
     "data": {
      "image/png": "[encoded data removed]",
      "text/plain": [
       "<Figure size 432x288 with 1 Axes>"
      ]
     },
     "metadata": {
      "needs_background": "light"
     },
     "output_type": "display_data"
    }
   ],
   "source": [
    "import matplotlib.pyplot as plt\n",
    "plt.plot(x_data,y_data)\n",
    "plt.ylabel('frequency')\n",
    "plt.xlabel('abs decision_function')\n",
    "plt.title('Complementary CDF')\n",
    "plt.savefig('complementary_cdf.png')\n",
    "plt.savefig('complementary_cdf.svg')\n",
    "plt.show()\n"
   ]
  },
  {
   "cell_type": "code",
   "execution_count": 97,
   "metadata": {},
   "outputs": [
    {
     "data": {
      "text/plain": [
       "3.2106061348599364"
      ]
     },
     "execution_count": 97,
     "metadata": {},
     "output_type": "execute_result"
    }
   ],
   "source": [
    "x_data[0]\n",
    "x_data[len(x_data)-1]"
   ]
  },
  {
   "cell_type": "code",
   "execution_count": 98,
   "metadata": {},
   "outputs": [],
   "source": [
    "def get_accuracy(input_dec,cdf_x,cdf_y):\n",
    "    y_len_minus_two = len(cdf_y)-2\n",
    "    abs_input_dec = abs(input_dec)\n",
    "    if abs_input_dec <= cdf_x[0]:\n",
    "        return 'highly unreliable'\n",
    "    elif abs_input_dec >= cdf_x[len(x_data)-1]:\n",
    "        return 'highly reliable'\n",
    "    else:\n",
    "        j = 0\n",
    "        while (abs_input_dec>=cdf_x[j])&(j<y_len_minus_two):\n",
    "            j=j+1\n",
    "        return 'estimated probability of error:'+str(cdf_y[j])+'.'"
   ]
  },
  {
   "cell_type": "code",
   "execution_count": 99,
   "metadata": {},
   "outputs": [
    {
     "data": {
      "text/plain": [
       "'R'"
      ]
     },
     "execution_count": 99,
     "metadata": {},
     "output_type": "execute_result"
    }
   ],
   "source": [
    "# Mitch McConnell\n",
    "in_text = \"This new bill strengthens some of the most important parts of the CARES Act, especially the popular Paycheck Protection Program which is saving millions of American jobs as we speak. And Republicans successfully kept extraneous issues out of the bill. It’s a win for the country.\"\n",
    "fun_input = list_tostring(word_tokenize(in_text))\n",
    "unigram_vectorizer = load('data_preprocessors/unigram_vectorizer.joblib')\n",
    "X_pred = bigram_vectorizer.transform([fun_input])\n",
    "X_pred = bigram_tf_idf_transformer.transform(X_pred)\n",
    "sgd_classifier = load('classifiers/sgd_classifier.joblib')\n",
    "\n",
    "result = sgd_classifier.predict(X_pred)\n",
    "result[0]"
   ]
  },
  {
   "cell_type": "code",
   "execution_count": 100,
   "metadata": {},
   "outputs": [
    {
     "data": {
      "text/plain": [
       "'estimated probability of error:0.6535182331792502.'"
      ]
     },
     "execution_count": 100,
     "metadata": {},
     "output_type": "execute_result"
    }
   ],
   "source": [
    "dec = sgd_classifier.decision_function(X_pred)\n",
    "dec\n",
    "get_accuracy(dec,x_data,y_data)"
   ]
  },
  {
   "cell_type": "code",
   "execution_count": 101,
   "metadata": {},
   "outputs": [
    {
     "data": {
      "text/plain": [
       "'D'"
      ]
     },
     "execution_count": 101,
     "metadata": {},
     "output_type": "execute_result"
    }
   ],
   "source": [
    "# Chuck Schumer\n",
    "in_text = \"Amid coronavirus—Trump admin's actively working to roll back critical protections against predatory lenders We’ll fight this—we need to crack down on loan sharks preying on the most vulnerable consumers Not let them peddle interest rates as high as 800%!\"\n",
    "fun_input = list_tostring(word_tokenize(in_text))\n",
    "unigram_vectorizer = load('data_preprocessors/unigram_vectorizer.joblib')\n",
    "X_pred = bigram_vectorizer.transform([fun_input])\n",
    "X_pred = bigram_tf_idf_transformer.transform(X_pred)\n",
    "sgd_classifier = load('classifiers/sgd_classifier.joblib')\n",
    "\n",
    "result = sgd_classifier.predict(X_pred)\n",
    "result[0]"
   ]
  },
  {
   "cell_type": "code",
   "execution_count": 102,
   "metadata": {},
   "outputs": [
    {
     "name": "stdout",
     "output_type": "stream",
     "text": [
      "[-1.2618172]\n"
     ]
    },
    {
     "data": {
      "text/plain": [
       "'estimated probability of error:0.23030303030303031.'"
      ]
     },
     "execution_count": 102,
     "metadata": {},
     "output_type": "execute_result"
    }
   ],
   "source": [
    "dec = sgd_classifier.decision_function(X_pred)\n",
    "dec\n",
    "print(dec)\n",
    "get_accuracy(dec,x_data,y_data)"
   ]
  },
  {
   "cell_type": "code",
   "execution_count": 103,
   "metadata": {},
   "outputs": [
    {
     "name": "stdout",
     "output_type": "stream",
     "text": [
      "estimated probability of error:0.7544940934771444.\n"
     ]
    }
   ],
   "source": [
    "print(get_accuracy(0.42,x_data,y_data))"
   ]
  },
  {
   "cell_type": "raw",
   "metadata": {},
   "source": []
  }
 ],
 "metadata": {
  "kernelspec": {
   "display_name": "Python 3",
   "language": "python",
   "name": "python3"
  },
  "language_info": {
   "codemirror_mode": {
    "name": "ipython",
    "version": 3
   },
   "file_extension": ".py",
   "mimetype": "text/x-python",
   "name": "python",
   "nbconvert_exporter": "python",
   "pygments_lexer": "ipython3",
   "version": "3.7.6"
  }
 },
 "nbformat": 4,
 "nbformat_minor": 4
}
