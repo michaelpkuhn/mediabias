{
 "cells": [
  {
   "cell_type": "code",
   "execution_count": 20,
   "metadata": {},
   "outputs": [],
   "source": [
    "from splinter import Browser\n",
    "from bs4 import BeautifulSoup as bs\n",
    "import pandas as pd\n",
    "from time import sleep\n",
    "\n",
    "chrome_path = 'C:/Users/kuhnie/Bootcamp_Repo/chromedriver.exe'\n",
    "executable_path = {'executable_path': chrome_path}\n",
    "browser = Browser('chrome', **executable_path, headless=False)\n",
    "\n",
    "url = 'http://www.tweetcongress.org/tweets'"
   ]
  },
  {
   "cell_type": "code",
   "execution_count": 21,
   "metadata": {},
   "outputs": [
    {
     "name": "stdout",
     "output_type": "stream",
     "text": [
      "<div class=\"tweets-wrapper\"><div><div class=\"tweet party_R row\" id=\"t_1254170360267919360\"><div class=\"col-xs-12\"><div class=\"tweet-wrapper\"><div class=\"media\"><div class=\"media-left\"><a href=\"/tweeters/FL/G000578-matt-gaetz\" title=\"Matt Gaetz\"><img class=\"img-tweet\" src=\"https://pbs.twimg.com/profile_images/1080559825946374144/n1tU4WLx_normal.jpg\"/></a><div class=\"tweet-state\"><!-- react-text: 211 -->R<!-- /react-text --><!-- react-text: 212 -->-<!-- /react-text --><!-- react-text: 213 -->FL<!-- /react-text --></div></div><div class=\"media-body\"><div class=\"media-heading\"><h2><a href=\"/tweeters/FL/G000578-matt-gaetz\" title=\"Matt Gaetz\">Matt Gaetz</a></h2></div><p class=\"tweet-date\">4/25/2020, 5:08:09 PM</p><p class=\"tweet-text\">RT <a class=\"tweet_user\" href=\"http://twitter.com/GovMikeHuckabee\" target=\"_blank\">@GovMikeHuckabee</a>: 2nite <a class=\"tweet_user\" href=\"http://twitter.com/tbn\" target=\"_blank\">@tbn</a> 8/11pm ET my guests Roger Stone, <a class=\"tweet_user\" href=\"http://twitter.com/mattgaetz\" target=\"_blank\">@mattgaetz</a> <a class=\"tweet_user\" href=\"http://twitter.com/PaulaFaris\" target=\"_blank\">@PaulaFaris</a> <a class=\"tweet_user\" href=\"http://twitter.com/MaxLucado\" target=\"_blank\">@MaxLucado</a> <a class=\"tweet_user\" href=\"http://twitter.com/Clint_Black\" target=\"_blank\">@Clint_Black</a> will inspire, entertain and…</p></div></div></div></div></div></div><div><div class=\"tweet party_D row\" id=\"t_1254170124409503745\"><div class=\"col-xs-12\"><div class=\"tweet-wrapper\"><div class=\"media\"><div class=\"media-left\"><a href=\"/tweeters/RI/L000559-james-langevin\" title=\"James Langevin\"><img class=\"img-tweet\" src=\"https://pbs.twimg.com/profile_images/1182731438426394626/j40QWnU9_normal.jpg\"/></a><div class=\"tweet-state\"><!-- react-text: 229 -->D<!-- /react-text --><!-- react-text: 230 -->-<!-- /react-text --><!-- react-text: 231 -->RI<!-- /react-text --></div></div><div class=\"media-body\"><div class=\"media-heading\"><h2><a href=\"/tweeters/RI/L000559-james-langevin\" title=\"James Langevin\">James Langevin</a></h2></div><p class=\"tweet-date\">4/25/2020, 5:07:13 PM</p><p class=\"tweet-text\">The application period for <a class=\"tweet_user\" href=\"http://twitter.com/fema\" target=\"_blank\">@fema</a>'s Assistance to Firefighters Grants - <a class=\"hashtag\" href=\"https://twitter.com/hashtag/COVID\" target=\"_blank\">#COVID</a>-19 Supplemental Program that includes…<a class=\"tweet_link\" href=\" https://t.co/nA0MMRXumc\" target=\"_blank\"> https://t.co/nA0MMRXumc</a></p></div></div></div></div></div></div><div><div class=\"tweet party_D row\" id=\"t_1254168809948078085\"><div class=\"col-xs-12\"><div class=\"tweet-wrapper\"><div class=\"media\"><div class=\"media-left\"><a href=\"/tweeters/NV/L000590-susie-lee\" title=\"Susie Lee\"><img class=\"img-tweet\" src=\"https://pbs.twimg.com/profile_images/1080861522061127680/PO_53d01_normal.jpg\"/></a><div class=\"tweet-state\"><!-- react-text: 247 -->D<!-- /react-text --><!-- react-text: 248 -->-<!-- /react-text --><!-- react-text: 249 -->NV<!-- /react-text --></div></div><div class=\"media-body\"><div class=\"media-heading\"><h2><a href=\"/tweeters/NV/L000590-susie-lee\" title=\"Susie Lee\">Susie Lee</a></h2></div><p class=\"tweet-date\">4/25/2020, 5:02:00 PM</p><p class=\"tweet-text\">The <a class=\"hashtag\" href=\"https://twitter.com/hashtag/COVID19\" target=\"_blank\">#COVID19</a> pandemic has disrupted so many aspects of our lives, from our kids’ schooling to our livelihoods. Visi…<a class=\"tweet_link\" href=\" https://t.co/vFtXl9fOEQ\" target=\"_blank\"> https://t.co/vFtXl9fOEQ</a></p></div></div></div></div></div></div><div><div class=\"tweet party_R row\" id=\"t_1254167833409355778\"><div class=\"col-xs-12\"><div class=\"tweet-wrapper\"><div class=\"media\"><div class=\"media-left\"><a href=\"/tweeters/FL/G000578-matt-gaetz\" title=\"Matt Gaetz\"><img class=\"img-tweet\" src=\"https://pbs.twimg.com/profile_images/1080559825946374144/n1tU4WLx_normal.jpg\"/></a><div class=\"tweet-state\"><!-- react-text: 265 -->R<!-- /react-text --><!-- react-text: 266 -->-<!-- /react-text --><!-- react-text: 267 -->FL<!-- /react-text --></div></div><div class=\"media-body\"><div class=\"media-heading\"><h2><a href=\"/tweeters/FL/G000578-matt-gaetz\" title=\"Matt Gaetz\">Matt Gaetz</a></h2></div><p class=\"tweet-date\">4/25/2020, 4:58:07 PM</p><p class=\"tweet-text\">TONIGHT: I'll be on <a class=\"tweet_user\" href=\"http://twitter.com/HuckabeeOnTBN\" target=\"_blank\">@HuckabeeOnTBN</a> with <a class=\"tweet_user\" href=\"http://twitter.com/GovMikeHuckabee\" target=\"_blank\">@GovMikeHuckabee</a> to talk about President <a class=\"tweet_user\" href=\"http://twitter.com/realDonaldTrump\" target=\"_blank\">@realDonaldTrump</a>'s plan to re-open…<a class=\"tweet_link\" href=\" https://t.co/3pMZvMx13Z\" target=\"_blank\"> https://t.co/3pMZvMx13Z</a></p></div></div></div></div></div></div><div><div class=\"tweet party_D row\" id=\"t_1254166544805842949\"><div class=\"col-xs-12\"><div class=\"tweet-wrapper\"><div class=\"media\"><div class=\"media-left\"><a href=\"/tweeters/MN/M001143-betty-mccollum\" title=\"Betty McCollum\"><img class=\"img-tweet\" src=\"https://pbs.twimg.com/profile_images/978076022158577664/ZBcXXRo__normal.jpg\"/></a><div class=\"tweet-state\"><!-- react-text: 283 -->D<!-- /react-text --><!-- react-text: 284 -->-<!-- /react-text --><!-- react-text: 285 -->MN<!-- /react-text --></div></div><div class=\"media-body\"><div class=\"media-heading\"><h2><a href=\"/tweeters/MN/M001143-betty-mccollum\" title=\"Betty McCollum\">Betty McCollum</a></h2></div><p class=\"tweet-date\">4/25/2020, 4:53:00 PM</p><p class=\"tweet-text\">To keep our democracy safe &amp; our communities safe, voting by mail just makes sense – and most Americans agree. You…<a class=\"tweet_link\" href=\" https://t.co/b8uvC7S6I2\" target=\"_blank\"> https://t.co/b8uvC7S6I2</a></p></div></div></div></div></div></div><div><div class=\"tweet party_D row\" id=\"t_1254166452954968064\"><div class=\"col-xs-12\"><div class=\"tweet-wrapper\"><div class=\"media\"><div class=\"media-left\"><a href=\"/tweeters/NY/T000469-paul-tonko\" title=\"Paul Tonko\"><img class=\"img-tweet\" src=\"https://pbs.twimg.com/profile_images/978261075253780482/MmYDwqku_normal.jpg\"/></a><div class=\"tweet-state\"><!-- react-text: 301 -->D<!-- /react-text --><!-- react-text: 302 -->-<!-- /react-text --><!-- react-text: 303 -->NY<!-- /react-text --></div></div><div class=\"media-body\"><div class=\"media-heading\"><h2><a href=\"/tweeters/NY/T000469-paul-tonko\" title=\"Paul Tonko\">Paul Tonko</a></h2></div><p class=\"tweet-date\">4/25/2020, 4:52:38 PM</p><p class=\"tweet-text\">Our interim funding package provides  - More than $370 for small businesses - $75 billion for hospitals  - $25 bill…<a class=\"tweet_link\" href=\" https://t.co/CN5dXLgIHO\" target=\"_blank\"> https://t.co/CN5dXLgIHO</a></p></div></div></div></div></div></div><div><div class=\"tweet party_R row\" id=\"t_1254166157998899205\"><div class=\"col-xs-12\"><div class=\"tweet-wrapper\"><div class=\"media\"><div class=\"media-left\"><a href=\"/tweeters/NY/Z000017-lee-zeldin\" title=\"Lee Zeldin\"><img class=\"img-tweet\" src=\"https://pbs.twimg.com/profile_images/866759502867161088/ZGcdQunZ_normal.jpg\"/></a><div class=\"tweet-state\"><!-- react-text: 319 -->R<!-- /react-text --><!-- react-text: 320 -->-<!-- /react-text --><!-- react-text: 321 -->NY<!-- /react-text --></div></div><div class=\"media-body\"><div class=\"media-heading\"><h2><a href=\"/tweeters/NY/Z000017-lee-zeldin\" title=\"Lee Zeldin\">Lee Zeldin</a></h2></div><p class=\"tweet-date\">4/25/2020, 4:51:28 PM</p><p class=\"tweet-text\">Yesterday, I spoke to Adm Polowczyk &amp; <a class=\"tweet_user\" href=\"http://twitter.com/WhiteHouse\" target=\"_blank\">@WhiteHouse</a> to reiterate the continued need for PPE for Suffolk County’s heal…<a class=\"tweet_link\" href=\" https://t.co/JdMbqpHTwI\" target=\"_blank\"> https://t.co/JdMbqpHTwI</a></p></div></div></div></div></div></div><div><div class=\"tweet party_D row\" id=\"t_1254166040197693441\"><div class=\"col-xs-12\"><div class=\"tweet-wrapper\"><div class=\"media\"><div class=\"media-left\"><a href=\"/tweeters/WI/P000607-mark-pocan\" title=\"Mark Pocan\"><img class=\"img-tweet\" src=\"https://pbs.twimg.com/profile_images/1039192566044999682/TNyedeNK_normal.jpg\"/></a><div class=\"tweet-state\"><!-- react-text: 337 -->D<!-- /react-text --><!-- react-text: 338 -->-<!-- /react-text --><!-- react-text: 339 -->WI<!-- /react-text --></div></div><div class=\"media-body\"><div class=\"media-heading\"><h2><a href=\"/tweeters/WI/P000607-mark-pocan\" title=\"Mark Pocan\">Mark Pocan</a></h2></div><p class=\"tweet-date\">4/25/2020, 4:50:59 PM</p><p class=\"tweet-text\">RT <a class=\"tweet_user\" href=\"http://twitter.com/RepChuyGarcia\" target=\"_blank\">@RepChuyGarcia</a>: Join us for the launch of Latinx and COVID-19 Week, where we will showcase bilingual tele-town halls, webinars, and Face…</p></div></div></div></div></div></div><div><div class=\"tweet party_R row\" id=\"t_1254165962670198784\"><div class=\"col-xs-12\"><div class=\"tweet-wrapper\"><div class=\"media\"><div class=\"media-left\"><a href=\"/tweeters/OH/P000449-robert-portman\" title=\"Robert Portman\"><img class=\"img-tweet\" src=\"https://pbs.twimg.com/profile_images/1037435418743107590/9hbhXXal_normal.jpg\"/></a><div class=\"tweet-state\"><!-- react-text: 355 -->R<!-- /react-text --><!-- react-text: 356 -->-<!-- /react-text --><!-- react-text: 357 -->OH<!-- /react-text --></div></div><div class=\"media-body\"><div class=\"media-heading\"><h2><a href=\"/tweeters/OH/P000449-robert-portman\" title=\"Robert Portman\">Robert Portman</a></h2></div><p class=\"tweet-date\">4/25/2020, 4:50:41 PM</p><p class=\"tweet-text\">The deadline to vote in this year’s primary election is fast approaching.  You have until this Tuesday to submit yo…<a class=\"tweet_link\" href=\" https://t.co/6Z0foVjIF0\" target=\"_blank\"> https://t.co/6Z0foVjIF0</a></p></div></div></div></div></div></div><div><div class=\"tweet party_D row\" id=\"t_1254165353984413698\"><div class=\"col-xs-12\"><div class=\"tweet-wrapper\"><div class=\"media\"><div class=\"media-left\"><a href=\"/tweeters/MN/O000173-ilhan-omar\" title=\"Ilhan Omar\"><img class=\"img-tweet\" src=\"https://pbs.twimg.com/profile_images/1082685661621178373/ledtkemL_normal.jpg\"/></a><div class=\"tweet-state\"><!-- react-text: 373 -->D<!-- /react-text --><!-- react-text: 374 -->-<!-- /react-text --><!-- react-text: 375 -->MN<!-- /react-text --></div></div><div class=\"media-body\"><div class=\"media-heading\"><h2><a href=\"/tweeters/MN/O000173-ilhan-omar\" title=\"Ilhan Omar\">Ilhan Omar</a></h2></div><p class=\"tweet-date\">4/25/2020, 4:48:16 PM</p><p class=\"tweet-text\">The  intimidation campaign by  against Harun Maruf is deeply disturbing.   These attacks, along with the April 14 a…<a class=\"tweet_link\" href=\" https://t.co/mIYy4g3yHt\" target=\"_blank\"> https://t.co/mIYy4g3yHt</a></p></div></div></div></div></div></div><div><div class=\"tweet party_D row\" id=\"t_1254165188963635200\"><div class=\"col-xs-12\"><div class=\"tweet-wrapper\"><div class=\"media\"><div class=\"media-left\"><a href=\"/tweeters/WA/L000560-rick-larsen\" title=\"Rick Larsen\"><img class=\"img-tweet\" src=\"https://pbs.twimg.com/profile_images/804085552064720896/HGM6mA6m_normal.jpg\"/></a><div class=\"tweet-state\"><!-- react-text: 391 -->D<!-- /react-text --><!-- react-text: 392 -->-<!-- /react-text --><!-- react-text: 393 -->WA<!-- /react-text --></div></div><div class=\"media-body\"><div class=\"media-heading\"><h2><a href=\"/tweeters/WA/L000560-rick-larsen\" title=\"Rick Larsen\">Rick Larsen</a></h2></div><p class=\"tweet-date\">4/25/2020, 4:47:36 PM</p><p class=\"tweet-text\">RT <a class=\"tweet_user\" href=\"http://twitter.com/HouseDemocrats\" target=\"_blank\">@HouseDemocrats</a>: The <a class=\"hashtag\" href=\"https://twitter.com/hashtag/2020Census\" target=\"_blank\">#2020Census</a> will help decide how much funding YOUR community receives for schools, roads, emergency services, hospi…</p></div></div></div></div></div></div><div><div class=\"tweet party_D row\" id=\"t_1254165136237047810\"><div class=\"col-xs-12\"><div class=\"tweet-wrapper\"><div class=\"media\"><div class=\"media-left\"><a href=\"/tweeters/TX/E000299-veronica-escobar\" title=\"Veronica Escobar\"><img class=\"img-tweet\" src=\"https://pbs.twimg.com/profile_images/1080877314123157505/gwdT0ZH9_normal.jpg\"/></a><div class=\"tweet-state\"><!-- react-text: 409 -->D<!-- /react-text --><!-- react-text: 410 -->-<!-- /react-text --><!-- react-text: 411 -->TX<!-- /react-text --></div></div><div class=\"media-body\"><div class=\"media-heading\"><h2><a href=\"/tweeters/TX/E000299-veronica-escobar\" title=\"Veronica Escobar\">Veronica Escobar</a></h2></div><p class=\"tweet-date\">4/25/2020, 4:47:24 PM</p><p class=\"tweet-text\">Acompáñame este martes a las 10:10 AM en mi reunión comunitaria telefónica bilingüe sobre los effectos del <a class=\"hashtag\" href=\"https://twitter.com/hashtag/COVID\" target=\"_blank\">#COVID</a>-1…<a class=\"tweet_link\" href=\" https://t.co/iH9QKYVx5M\" target=\"_blank\"> https://t.co/iH9QKYVx5M</a></p></div></div></div></div></div></div><div><div class=\"tweet party_D row\" id=\"t_1254164916296134659\"><div class=\"col-xs-12\"><div class=\"tweet-wrapper\"><div class=\"media\"><div class=\"media-left\"><a href=\"/tweeters/TX/E000299-veronica-escobar\" title=\"Veronica Escobar\"><img class=\"img-tweet\" src=\"https://pbs.twimg.com/profile_images/1080877314123157505/gwdT0ZH9_normal.jpg\"/></a><div class=\"tweet-state\"><!-- react-text: 427 -->D<!-- /react-text --><!-- react-text: 428 -->-<!-- /react-text --><!-- react-text: 429 -->TX<!-- /react-text --></div></div><div class=\"media-body\"><div class=\"media-heading\"><h2><a href=\"/tweeters/TX/E000299-veronica-escobar\" title=\"Veronica Escobar\">Veronica Escobar</a></h2></div><p class=\"tweet-date\">4/25/2020, 4:46:31 PM</p><p class=\"tweet-text\">Join me this Tuesday at 10:10 AM for a bilingual tele-town hall on <a class=\"hashtag\" href=\"https://twitter.com/hashtag/COVID19\" target=\"_blank\">#COVID19</a> and the effects on mental health and do…<a class=\"tweet_link\" href=\" https://t.co/ebT6bBj6Bb\" target=\"_blank\"> https://t.co/ebT6bBj6Bb</a></p></div></div></div></div></div></div><div><div class=\"tweet party_D row\" id=\"t_1254164845663928321\"><div class=\"col-xs-12\"><div class=\"tweet-wrapper\"><div class=\"media\"><div class=\"media-left\"><a href=\"/tweeters/WA/J000298-pramila-jayapal\" title=\"Pramila Jayapal\"><img class=\"img-tweet\" src=\"https://pbs.twimg.com/profile_images/978268908057751552/LdIDc0tc_normal.jpg\"/></a><div class=\"tweet-state\"><!-- react-text: 445 -->D<!-- /react-text --><!-- react-text: 446 -->-<!-- /react-text --><!-- react-text: 447 -->WA<!-- /react-text --></div></div><div class=\"media-body\"><div class=\"media-heading\"><h2><a href=\"/tweeters/WA/J000298-pramila-jayapal\" title=\"Pramila Jayapal\">Pramila Jayapal</a></h2></div><p class=\"tweet-date\">4/25/2020, 4:46:15 PM</p><p class=\"tweet-text\">Thank you, <a class=\"tweet_user\" href=\"http://twitter.com/GavinNewsom\" target=\"_blank\">@GavinNewsom</a>. I hope every Governor does this. I will continue to fight in Congress to make sure immigra…<a class=\"tweet_link\" href=\" https://t.co/hLxxnBjm17\" target=\"_blank\"> https://t.co/hLxxnBjm17</a></p></div></div></div></div></div></div><div><div class=\"tweet party_D row\" id=\"t_1254164783357722632\"><div class=\"col-xs-12\"><div class=\"tweet-wrapper\"><div class=\"media\"><div class=\"media-left\"><a href=\"/tweeters/CA/R000599-raul-ruiz\" title=\"Raul Ruiz\"><img class=\"img-tweet\" src=\"https://pbs.twimg.com/profile_images/3109371960/abcc78e171a1bc5232a05b221ac6d6a3_normal.jpeg\"/></a><div class=\"tweet-state\"><!-- react-text: 463 -->D<!-- /react-text --><!-- react-text: 464 -->-<!-- /react-text --><!-- react-text: 465 -->CA<!-- /react-text --></div></div><div class=\"media-body\"><div class=\"media-heading\"><h2><a href=\"/tweeters/CA/R000599-raul-ruiz\" title=\"Raul Ruiz\">Raul Ruiz</a></h2></div><p class=\"tweet-date\">4/25/2020, 4:46:00 PM</p><p class=\"tweet-text\">What will it take to reopen the economy? Listen as I discuss this and more with <a class=\"tweet_user\" href=\"http://twitter.com/GordonDeal\" target=\"_blank\">@GordonDeal</a>.  <a class=\"tweet_link\" href=\" https://t.co/RbbU9kNh4C\" target=\"_blank\"> https://t.co/RbbU9kNh4C</a></p></div></div></div></div></div></div><div><div class=\"tweet party_D row\" id=\"t_1254164685802270720\"><div class=\"col-xs-12\"><div class=\"tweet-wrapper\"><div class=\"media\"><div class=\"media-left\"><a href=\"/tweeters/NV/T000468-dina-titus\" title=\"Dina Titus\"><img class=\"img-tweet\" src=\"https://pbs.twimg.com/profile_images/669584452322877442/z7pOtlJI_normal.jpg\"/></a><div class=\"tweet-state\"><!-- react-text: 481 -->D<!-- /react-text --><!-- react-text: 482 -->-<!-- /react-text --><!-- react-text: 483 -->NV<!-- /react-text --></div></div><div class=\"media-body\"><div class=\"media-heading\"><h2><a href=\"/tweeters/NV/T000468-dina-titus\" title=\"Dina Titus\">Dina Titus</a></h2></div><p class=\"tweet-date\">4/25/2020, 4:45:37 PM</p><p class=\"tweet-text\">Para obtener más información sobre su pago de impacto económico de la <a class=\"hashtag\" href=\"https://twitter.com/hashtag/LeyCARES\" target=\"_blank\">#LeyCARES</a> en español, sigan a <a class=\"tweet_user\" href=\"http://twitter.com/irsenespanol\" target=\"_blank\">@irsenespanol</a>.</p></div></div></div></div></div></div><div><div class=\"tweet party_R row\" id=\"t_1254164521633099784\"><div class=\"col-xs-12\"><div class=\"tweet-wrapper\"><div class=\"media\"><div class=\"media-left\"><a href=\"/tweeters/AZ/S001183-david-schweikert\" title=\"David Schweikert\"><img class=\"img-tweet\" src=\"https://pbs.twimg.com/profile_images/1120412904304599041/dVK5QlEQ_normal.jpg\"/></a><div class=\"tweet-state\"><!-- react-text: 499 -->R<!-- /react-text --><!-- react-text: 500 -->-<!-- /react-text --><!-- react-text: 501 -->AZ<!-- /react-text --></div></div><div class=\"media-body\"><div class=\"media-heading\"><h2><a href=\"/tweeters/AZ/S001183-david-schweikert\" title=\"David Schweikert\">David Schweikert</a></h2></div><p class=\"tweet-date\">4/25/2020, 4:44:57 PM</p><p class=\"tweet-text\">RT <a class=\"tweet_user\" href=\"http://twitter.com/AzMxCom\" target=\"_blank\">@AzMxCom</a>: On July 1, a 21st century trade agreement — USMCA — will be IMPLEMENTED. With thousands of jobs tied to trade, <a class=\"hashtag\" href=\"https://twitter.com/hashtag/Arizona\" target=\"_blank\">#Arizona</a> stands…</p></div></div></div></div></div></div><div><div class=\"tweet party_R row\" id=\"t_1254164361540775936\"><div class=\"col-xs-12\"><div class=\"tweet-wrapper\"><div class=\"media\"><div class=\"media-left\"><a href=\"/tweeters/IN/B001299-jim-banks\" title=\"Jim Banks\"><img class=\"img-tweet\" src=\"https://pbs.twimg.com/profile_images/1208129679925940224/necNC6d__normal.jpg\"/></a><div class=\"tweet-state\"><!-- react-text: 517 -->R<!-- /react-text --><!-- react-text: 518 -->-<!-- /react-text --><!-- react-text: 519 -->IN<!-- /react-text --></div></div><div class=\"media-body\"><div class=\"media-heading\"><h2><a href=\"/tweeters/IN/B001299-jim-banks\" title=\"Jim Banks\">Jim Banks</a></h2></div><p class=\"tweet-date\">4/25/2020, 4:44:19 PM</p><p class=\"tweet-text\">Our public health officials need to calm the public and tell us how to safely reopen. Vaccine will take awhile, and…<a class=\"tweet_link\" href=\" https://t.co/kaSs1szVAy\" target=\"_blank\"> https://t.co/kaSs1szVAy</a></p></div></div></div></div></div></div><div><div class=\"tweet party_R row\" id=\"t_1254164346659385346\"><div class=\"col-xs-12\"><div class=\"tweet-wrapper\"><div class=\"media\"><div class=\"media-left\"><a href=\"/tweeters/NC/T000476-thom-tillis\" title=\"Thom Tillis\"><img class=\"img-tweet\" src=\"https://pbs.twimg.com/profile_images/1113102311566594048/TE6vxjHC_normal.png\"/></a><div class=\"tweet-state\"><!-- react-text: 535 -->R<!-- /react-text --><!-- react-text: 536 -->-<!-- /react-text --><!-- react-text: 537 -->NC<!-- /react-text --></div></div><div class=\"media-body\"><div class=\"media-heading\"><h2><a href=\"/tweeters/NC/T000476-thom-tillis\" title=\"Thom Tillis\">Thom Tillis</a></h2></div><p class=\"tweet-date\">4/25/2020, 4:44:16 PM</p><p class=\"tweet-text\">RT <a class=\"tweet_user\" href=\"http://twitter.com/IRSnews\" target=\"_blank\">@IRSnews</a>: An <a class=\"hashtag\" href=\"https://twitter.com/hashtag/IRS\" target=\"_blank\">#IRS</a> warning: Stay vigilant to coronavirus-related scams, especially schemes tied to Economic Impact Payment. Learn more at…</p></div></div></div></div></div></div><div><div class=\"tweet party_R row\" id=\"t_1254163929581920263\"><div class=\"col-xs-12\"><div class=\"tweet-wrapper\"><div class=\"media\"><div class=\"media-left\"><a href=\"/tweeters/AZ/S001183-david-schweikert\" title=\"David Schweikert\"><img class=\"img-tweet\" src=\"https://pbs.twimg.com/profile_images/1120412904304599041/dVK5QlEQ_normal.jpg\"/></a><div class=\"tweet-state\"><!-- react-text: 553 -->R<!-- /react-text --><!-- react-text: 554 -->-<!-- /react-text --><!-- react-text: 555 -->AZ<!-- /react-text --></div></div><div class=\"media-body\"><div class=\"media-heading\"><h2><a href=\"/tweeters/AZ/S001183-david-schweikert\" title=\"David Schweikert\">David Schweikert</a></h2></div><p class=\"tweet-date\">4/25/2020, 4:42:36 PM</p><p class=\"tweet-text\">RT <a class=\"tweet_user\" href=\"http://twitter.com/WaysandMeansGOP\" target=\"_blank\">@WaysandMeansGOP</a>: This new bill not only put much needed funding in the crucial <a class=\"hashtag\" href=\"https://twitter.com/hashtag/PaycheckProtectionProgram\" target=\"_blank\">#PaycheckProtectionProgram</a>, but it also delivered additi…</p></div></div></div></div></div></div></div>\n"
     ]
    }
   ],
   "source": [
    "browser.visit(url)\n",
    "sleep(2)\n",
    "html=browser.html\n",
    "soup = bs(html, 'html.parser')\n",
    "body = soup.find('div', class_='tweets-wrapper')\n",
    "print(body)"
   ]
  },
  {
   "cell_type": "code",
   "execution_count": 22,
   "metadata": {},
   "outputs": [
    {
     "ename": "ElementDoesNotExist",
     "evalue": "no elements could be found with name \"type\"",
     "output_type": "error",
     "traceback": [
      "\u001b[1;31m---------------------------------------------------------------------------\u001b[0m",
      "\u001b[1;31mIndexError\u001b[0m                                Traceback (most recent call last)",
      "\u001b[1;32m~\\Anaconda3\\lib\\site-packages\\splinter\\element_list.py\u001b[0m in \u001b[0;36m__getitem__\u001b[1;34m(self, index)\u001b[0m\n\u001b[0;32m     41\u001b[0m         \u001b[1;32mtry\u001b[0m\u001b[1;33m:\u001b[0m\u001b[1;33m\u001b[0m\u001b[1;33m\u001b[0m\u001b[0m\n\u001b[1;32m---> 42\u001b[1;33m             \u001b[1;32mreturn\u001b[0m \u001b[0mself\u001b[0m\u001b[1;33m.\u001b[0m\u001b[0m_container\u001b[0m\u001b[1;33m[\u001b[0m\u001b[0mindex\u001b[0m\u001b[1;33m]\u001b[0m\u001b[1;33m\u001b[0m\u001b[1;33m\u001b[0m\u001b[0m\n\u001b[0m\u001b[0;32m     43\u001b[0m         \u001b[1;32mexcept\u001b[0m \u001b[0mIndexError\u001b[0m\u001b[1;33m:\u001b[0m\u001b[1;33m\u001b[0m\u001b[1;33m\u001b[0m\u001b[0m\n",
      "\u001b[1;31mIndexError\u001b[0m: list index out of range",
      "\nDuring handling of the above exception, another exception occurred:\n",
      "\u001b[1;31mElementDoesNotExist\u001b[0m                       Traceback (most recent call last)",
      "\u001b[1;32m<ipython-input-22-e6b3e2639b41>\u001b[0m in \u001b[0;36m<module>\u001b[1;34m\u001b[0m\n\u001b[1;32m----> 1\u001b[1;33m \u001b[1;32mfor\u001b[0m \u001b[0mkey\u001b[0m \u001b[1;32min\u001b[0m \u001b[0mbrowser\u001b[0m\u001b[1;33m.\u001b[0m\u001b[0mtype\u001b[0m\u001b[1;33m(\u001b[0m\u001b[1;34m'type'\u001b[0m\u001b[1;33m,\u001b[0m \u001b[1;34m'KeyDown'\u001b[0m\u001b[1;33m,\u001b[0m \u001b[0mslowly\u001b[0m\u001b[1;33m=\u001b[0m\u001b[1;32mTrue\u001b[0m\u001b[1;33m)\u001b[0m\u001b[1;33m:\u001b[0m\u001b[1;33m\u001b[0m\u001b[1;33m\u001b[0m\u001b[0m\n\u001b[0m\u001b[0;32m      2\u001b[0m     \u001b[1;32mpass\u001b[0m\u001b[1;33m\u001b[0m\u001b[1;33m\u001b[0m\u001b[0m\n",
      "\u001b[1;32m~\\Anaconda3\\lib\\site-packages\\splinter\\driver\\webdriver\\__init__.py\u001b[0m in \u001b[0;36mtype\u001b[1;34m(self, name, value, slowly)\u001b[0m\n\u001b[0;32m    636\u001b[0m \u001b[1;33m\u001b[0m\u001b[0m\n\u001b[0;32m    637\u001b[0m     \u001b[1;32mdef\u001b[0m \u001b[0mtype\u001b[0m\u001b[1;33m(\u001b[0m\u001b[0mself\u001b[0m\u001b[1;33m,\u001b[0m \u001b[0mname\u001b[0m\u001b[1;33m,\u001b[0m \u001b[0mvalue\u001b[0m\u001b[1;33m,\u001b[0m \u001b[0mslowly\u001b[0m\u001b[1;33m=\u001b[0m\u001b[1;32mFalse\u001b[0m\u001b[1;33m)\u001b[0m\u001b[1;33m:\u001b[0m\u001b[1;33m\u001b[0m\u001b[1;33m\u001b[0m\u001b[0m\n\u001b[1;32m--> 638\u001b[1;33m         \u001b[0melement\u001b[0m \u001b[1;33m=\u001b[0m \u001b[0mself\u001b[0m\u001b[1;33m.\u001b[0m\u001b[0mfind_by_name\u001b[0m\u001b[1;33m(\u001b[0m\u001b[0mname\u001b[0m\u001b[1;33m)\u001b[0m\u001b[1;33m.\u001b[0m\u001b[0mfirst\u001b[0m\u001b[1;33m.\u001b[0m\u001b[0m_element\u001b[0m\u001b[1;33m\u001b[0m\u001b[1;33m\u001b[0m\u001b[0m\n\u001b[0m\u001b[0;32m    639\u001b[0m         \u001b[1;32mif\u001b[0m \u001b[0mslowly\u001b[0m\u001b[1;33m:\u001b[0m\u001b[1;33m\u001b[0m\u001b[1;33m\u001b[0m\u001b[0m\n\u001b[0;32m    640\u001b[0m             \u001b[1;32mreturn\u001b[0m \u001b[0mTypeIterator\u001b[0m\u001b[1;33m(\u001b[0m\u001b[0melement\u001b[0m\u001b[1;33m,\u001b[0m \u001b[0mvalue\u001b[0m\u001b[1;33m)\u001b[0m\u001b[1;33m\u001b[0m\u001b[1;33m\u001b[0m\u001b[0m\n",
      "\u001b[1;32m~\\Anaconda3\\lib\\site-packages\\splinter\\element_list.py\u001b[0m in \u001b[0;36mfirst\u001b[1;34m(self)\u001b[0m\n\u001b[0;32m     55\u001b[0m             \u001b[1;33m>>\u001b[0m\u001b[1;33m>\u001b[0m \u001b[1;32massert\u001b[0m \u001b[0melement_list\u001b[0m\u001b[1;33m[\u001b[0m\u001b[1;36m0\u001b[0m\u001b[1;33m]\u001b[0m \u001b[1;33m==\u001b[0m \u001b[0melement_list\u001b[0m\u001b[1;33m.\u001b[0m\u001b[0mfirst\u001b[0m\u001b[1;33m\u001b[0m\u001b[1;33m\u001b[0m\u001b[0m\n\u001b[0;32m     56\u001b[0m         \"\"\"\n\u001b[1;32m---> 57\u001b[1;33m         \u001b[1;32mreturn\u001b[0m \u001b[0mself\u001b[0m\u001b[1;33m[\u001b[0m\u001b[1;36m0\u001b[0m\u001b[1;33m]\u001b[0m\u001b[1;33m\u001b[0m\u001b[1;33m\u001b[0m\u001b[0m\n\u001b[0m\u001b[0;32m     58\u001b[0m \u001b[1;33m\u001b[0m\u001b[0m\n\u001b[0;32m     59\u001b[0m     \u001b[1;33m@\u001b[0m\u001b[0mproperty\u001b[0m\u001b[1;33m\u001b[0m\u001b[1;33m\u001b[0m\u001b[0m\n",
      "\u001b[1;32m~\\Anaconda3\\lib\\site-packages\\splinter\\element_list.py\u001b[0m in \u001b[0;36m__getitem__\u001b[1;34m(self, index)\u001b[0m\n\u001b[0;32m     44\u001b[0m             raise ElementDoesNotExist(\n\u001b[0;32m     45\u001b[0m                 u'no elements could be found with {0} \"{1}\"'.format(\n\u001b[1;32m---> 46\u001b[1;33m                     \u001b[0mself\u001b[0m\u001b[1;33m.\u001b[0m\u001b[0mfind_by\u001b[0m\u001b[1;33m,\u001b[0m \u001b[0mself\u001b[0m\u001b[1;33m.\u001b[0m\u001b[0mquery\u001b[0m\u001b[1;33m\u001b[0m\u001b[1;33m\u001b[0m\u001b[0m\n\u001b[0m\u001b[0;32m     47\u001b[0m                 )\n\u001b[0;32m     48\u001b[0m             )\n",
      "\u001b[1;31mElementDoesNotExist\u001b[0m: no elements could be found with name \"type\""
     ]
    }
   ],
   "source": [
    "for key in browser.type('type', 'KeyDown', slowly=True):\n",
    "    pass"
   ]
  },
  {
   "cell_type": "code",
   "execution_count": 18,
   "metadata": {},
   "outputs": [
    {
     "ename": "TimeoutException",
     "evalue": "Message: \n",
     "output_type": "error",
     "traceback": [
      "\u001b[1;31m---------------------------------------------------------------------------\u001b[0m",
      "\u001b[1;31mTimeoutException\u001b[0m                          Traceback (most recent call last)",
      "\u001b[1;32m<ipython-input-18-47f279642eeb>\u001b[0m in \u001b[0;36m<module>\u001b[1;34m\u001b[0m\n\u001b[0;32m     13\u001b[0m \u001b[0mno_of_pagedowns\u001b[0m \u001b[1;33m=\u001b[0m \u001b[1;36m20\u001b[0m\u001b[1;33m\u001b[0m\u001b[1;33m\u001b[0m\u001b[0m\n\u001b[0;32m     14\u001b[0m \u001b[1;33m\u001b[0m\u001b[0m\n\u001b[1;32m---> 15\u001b[1;33m \u001b[0melement\u001b[0m \u001b[1;33m=\u001b[0m \u001b[0mWebDriverWait\u001b[0m\u001b[1;33m(\u001b[0m\u001b[0mbrowser\u001b[0m\u001b[1;33m,\u001b[0m \u001b[1;36m20\u001b[0m\u001b[1;33m)\u001b[0m\u001b[1;33m.\u001b[0m\u001b[0muntil\u001b[0m\u001b[1;33m(\u001b[0m\u001b[0mEC\u001b[0m\u001b[1;33m.\u001b[0m\u001b[0mpresence_of_element_located\u001b[0m\u001b[1;33m(\u001b[0m\u001b[1;33m(\u001b[0m\u001b[0mBy\u001b[0m\u001b[1;33m.\u001b[0m\u001b[0mXPATH\u001b[0m\u001b[1;33m,\u001b[0m \u001b[1;34m\"//div/button[@id='qa-guest-checkout-mobile']\"\u001b[0m\u001b[1;33m)\u001b[0m\u001b[1;33m)\u001b[0m\u001b[1;33m)\u001b[0m\u001b[1;33m\u001b[0m\u001b[1;33m\u001b[0m\u001b[0m\n\u001b[0m\u001b[0;32m     16\u001b[0m \u001b[1;33m\u001b[0m\u001b[0m\n\u001b[0;32m     17\u001b[0m \u001b[1;33m\u001b[0m\u001b[0m\n",
      "\u001b[1;32m~\\Anaconda3\\lib\\site-packages\\selenium\\webdriver\\support\\wait.py\u001b[0m in \u001b[0;36muntil\u001b[1;34m(self, method, message)\u001b[0m\n\u001b[0;32m     78\u001b[0m             \u001b[1;32mif\u001b[0m \u001b[0mtime\u001b[0m\u001b[1;33m.\u001b[0m\u001b[0mtime\u001b[0m\u001b[1;33m(\u001b[0m\u001b[1;33m)\u001b[0m \u001b[1;33m>\u001b[0m \u001b[0mend_time\u001b[0m\u001b[1;33m:\u001b[0m\u001b[1;33m\u001b[0m\u001b[1;33m\u001b[0m\u001b[0m\n\u001b[0;32m     79\u001b[0m                 \u001b[1;32mbreak\u001b[0m\u001b[1;33m\u001b[0m\u001b[1;33m\u001b[0m\u001b[0m\n\u001b[1;32m---> 80\u001b[1;33m         \u001b[1;32mraise\u001b[0m \u001b[0mTimeoutException\u001b[0m\u001b[1;33m(\u001b[0m\u001b[0mmessage\u001b[0m\u001b[1;33m,\u001b[0m \u001b[0mscreen\u001b[0m\u001b[1;33m,\u001b[0m \u001b[0mstacktrace\u001b[0m\u001b[1;33m)\u001b[0m\u001b[1;33m\u001b[0m\u001b[1;33m\u001b[0m\u001b[0m\n\u001b[0m\u001b[0;32m     81\u001b[0m \u001b[1;33m\u001b[0m\u001b[0m\n\u001b[0;32m     82\u001b[0m     \u001b[1;32mdef\u001b[0m \u001b[0muntil_not\u001b[0m\u001b[1;33m(\u001b[0m\u001b[0mself\u001b[0m\u001b[1;33m,\u001b[0m \u001b[0mmethod\u001b[0m\u001b[1;33m,\u001b[0m \u001b[0mmessage\u001b[0m\u001b[1;33m=\u001b[0m\u001b[1;34m''\u001b[0m\u001b[1;33m)\u001b[0m\u001b[1;33m:\u001b[0m\u001b[1;33m\u001b[0m\u001b[1;33m\u001b[0m\u001b[0m\n",
      "\u001b[1;31mTimeoutException\u001b[0m: Message: \n"
     ]
    }
   ],
   "source": [
    "from selenium import webdriver\n",
    "from selenium.webdriver.common.by import By\n",
    "from selenium.webdriver.support.ui import WebDriverWait\n",
    "from selenium.webdriver.support import expected_conditions as EC\n",
    "\n",
    "browser = webdriver.Chrome(executable_path=chrome_path)\n",
    "\n",
    "browser.get(url)\n",
    "sleep(5)\n",
    "\n",
    "elem = browser.find_element_by_class_name(\"tweets-wrapper\")\n",
    "\n",
    "no_of_pagedowns = 20\n",
    "\n",
    "element = WebDriverWait(browser, 20).until(EC.presence_of_element_located((By.XPATH, \"//div/button[@id='qa-guest-checkout-mobile']\")))\n",
    "\n",
    "\n",
    "while no_of_pagedowns:\n",
    "    browser.execute_script(\"arguments[0].click();\", element)\n",
    "    sleep(0.2)\n",
    "    no_of_pagedowns-=1\n",
    "\n",
    "post_elems = browser.find_elements_by_class_name(\"post-item-title\")\n",
    "\n",
    "for post in post_elems:\n",
    "    print(post.text)"
   ]
  },
  {
   "cell_type": "code",
   "execution_count": 26,
   "metadata": {},
   "outputs": [],
   "source": []
  },
  {
   "cell_type": "code",
   "execution_count": 27,
   "metadata": {},
   "outputs": [],
   "source": [
    "import pandas as pd\n"
   ]
  },
  {
   "cell_type": "code",
   "execution_count": 39,
   "metadata": {
    "collapsed": true,
    "jupyter": {
     "outputs_hidden": true
    }
   },
   "outputs": [
    {
     "data": {
      "text/html": [
       "<div>\n",
       "<style scoped>\n",
       "    .dataframe tbody tr th:only-of-type {\n",
       "        vertical-align: middle;\n",
       "    }\n",
       "\n",
       "    .dataframe tbody tr th {\n",
       "        vertical-align: top;\n",
       "    }\n",
       "\n",
       "    .dataframe thead th {\n",
       "        text-align: right;\n",
       "    }\n",
       "</style>\n",
       "<table border=\"1\" class=\"dataframe\">\n",
       "  <thead>\n",
       "    <tr style=\"text-align: right;\">\n",
       "      <th></th>\n",
       "      <th>id</th>\n",
       "      <th>screen_name</th>\n",
       "      <th>time</th>\n",
       "      <th>link</th>\n",
       "      <th>text</th>\n",
       "      <th>source</th>\n",
       "      <th>user_id</th>\n",
       "    </tr>\n",
       "  </thead>\n",
       "  <tbody>\n",
       "    <tr>\n",
       "      <td>0</td>\n",
       "      <td>877527850420776960</td>\n",
       "      <td>RepErikPaulsen</td>\n",
       "      <td>2017-06-21T10:05:17-04:00</td>\n",
       "      <td>https://www.twitter.com/CRN_Supplements/status...</td>\n",
       "      <td>RT @CRN_Supplements Thank you @RepErikPaulsen ...</td>\n",
       "      <td>Twitter Web Client</td>\n",
       "      <td>17513304</td>\n",
       "    </tr>\n",
       "    <tr>\n",
       "      <td>1</td>\n",
       "      <td>877628169028632576</td>\n",
       "      <td>RepTedBudd</td>\n",
       "      <td>2017-06-21T16:43:55-04:00</td>\n",
       "      <td>https://www.twitter.com/RepTedBudd/statuses/87...</td>\n",
       "      <td>Congrats to our Congressional Award Gold Medal...</td>\n",
       "      <td>Twitter Web Client</td>\n",
       "      <td>817138492614524928</td>\n",
       "    </tr>\n",
       "    <tr>\n",
       "      <td>2</td>\n",
       "      <td>877580122785685504</td>\n",
       "      <td>SenatorWicker</td>\n",
       "      <td>2017-06-21T13:33:00-04:00</td>\n",
       "      <td>https://www.twitter.com/SenatorWicker/statuses...</td>\n",
       "      <td>ICYMI: I chaired a hearing to explore expandin...</td>\n",
       "      <td>TweetDeck</td>\n",
       "      <td>264219447</td>\n",
       "    </tr>\n",
       "    <tr>\n",
       "      <td>3</td>\n",
       "      <td>877655119638048768</td>\n",
       "      <td>BernieSanders</td>\n",
       "      <td>2017-06-21T18:31:01-04:00</td>\n",
       "      <td>https://www.twitter.com/BernieSanders/statuses...</td>\n",
       "      <td>The Affordable Care Act should be improved. Bu...</td>\n",
       "      <td>TweetDeck</td>\n",
       "      <td>216776631</td>\n",
       "    </tr>\n",
       "    <tr>\n",
       "      <td>4</td>\n",
       "      <td>877632313550553088</td>\n",
       "      <td>RepDonBacon</td>\n",
       "      <td>2017-06-21T17:00:23-04:00</td>\n",
       "      <td>https://www.twitter.com/RepDonBacon/statuses/8...</td>\n",
       "      <td>#TaxReform will create a low tax rate just for...</td>\n",
       "      <td>Hootsuite</td>\n",
       "      <td>818975124460335104</td>\n",
       "    </tr>\n",
       "    <tr>\n",
       "      <td>...</td>\n",
       "      <td>...</td>\n",
       "      <td>...</td>\n",
       "      <td>...</td>\n",
       "      <td>...</td>\n",
       "      <td>...</td>\n",
       "      <td>...</td>\n",
       "      <td>...</td>\n",
       "    </tr>\n",
       "    <tr>\n",
       "      <td>2726</td>\n",
       "      <td>877577270147338240</td>\n",
       "      <td>jaredpolis</td>\n",
       "      <td>2017-06-21T13:21:40-04:00</td>\n",
       "      <td>https://www.twitter.com/jaredpolis/statuses/87...</td>\n",
       "      <td>Sun sets at 8:31 pm in Denver tonight! #Summer...</td>\n",
       "      <td>Twitter for iPhone</td>\n",
       "      <td>15361570</td>\n",
       "    </tr>\n",
       "    <tr>\n",
       "      <td>2727</td>\n",
       "      <td>877586890987257856</td>\n",
       "      <td>NRCC</td>\n",
       "      <td>2017-06-21T13:59:54-04:00</td>\n",
       "      <td>https://www.twitter.com/NRCC/statuses/87758689...</td>\n",
       "      <td>Congratulations to the newest Congressman from...</td>\n",
       "      <td>Twitter Web Client</td>\n",
       "      <td>5496932</td>\n",
       "    </tr>\n",
       "    <tr>\n",
       "      <td>2728</td>\n",
       "      <td>877522317118758912</td>\n",
       "      <td>NormaJTorres</td>\n",
       "      <td>2017-06-21T09:43:18-04:00</td>\n",
       "      <td>https://www.twitter.com/NormaJTorres/statuses/...</td>\n",
       "      <td>It's all in a days work for CA-35 https://t.co...</td>\n",
       "      <td>Twitter for iPhone</td>\n",
       "      <td>236279233</td>\n",
       "    </tr>\n",
       "    <tr>\n",
       "      <td>2729</td>\n",
       "      <td>877613576806170624</td>\n",
       "      <td>SenatorFischer</td>\n",
       "      <td>2017-06-21T15:45:56-04:00</td>\n",
       "      <td>https://www.twitter.com/SenatorFischer/statuse...</td>\n",
       "      <td>It was wonderful to welcome my old friend Don ...</td>\n",
       "      <td>Twitter Web Client</td>\n",
       "      <td>1071402577</td>\n",
       "    </tr>\n",
       "    <tr>\n",
       "      <td>2730</td>\n",
       "      <td>877516575565369344</td>\n",
       "      <td>DonaldNorcross</td>\n",
       "      <td>2017-06-21T09:20:29-04:00</td>\n",
       "      <td>https://www.twitter.com/DonaldNorcross/statuse...</td>\n",
       "      <td>On #TheLongestDay, let's recommit to the fight...</td>\n",
       "      <td>Twitter Web Client</td>\n",
       "      <td>3122099613</td>\n",
       "    </tr>\n",
       "  </tbody>\n",
       "</table>\n",
       "<p>2731 rows × 7 columns</p>\n",
       "</div>"
      ],
      "text/plain": [
       "                      id     screen_name                       time  \\\n",
       "0     877527850420776960  RepErikPaulsen  2017-06-21T10:05:17-04:00   \n",
       "1     877628169028632576      RepTedBudd  2017-06-21T16:43:55-04:00   \n",
       "2     877580122785685504   SenatorWicker  2017-06-21T13:33:00-04:00   \n",
       "3     877655119638048768   BernieSanders  2017-06-21T18:31:01-04:00   \n",
       "4     877632313550553088     RepDonBacon  2017-06-21T17:00:23-04:00   \n",
       "...                  ...             ...                        ...   \n",
       "2726  877577270147338240      jaredpolis  2017-06-21T13:21:40-04:00   \n",
       "2727  877586890987257856            NRCC  2017-06-21T13:59:54-04:00   \n",
       "2728  877522317118758912    NormaJTorres  2017-06-21T09:43:18-04:00   \n",
       "2729  877613576806170624  SenatorFischer  2017-06-21T15:45:56-04:00   \n",
       "2730  877516575565369344  DonaldNorcross  2017-06-21T09:20:29-04:00   \n",
       "\n",
       "                                                   link  \\\n",
       "0     https://www.twitter.com/CRN_Supplements/status...   \n",
       "1     https://www.twitter.com/RepTedBudd/statuses/87...   \n",
       "2     https://www.twitter.com/SenatorWicker/statuses...   \n",
       "3     https://www.twitter.com/BernieSanders/statuses...   \n",
       "4     https://www.twitter.com/RepDonBacon/statuses/8...   \n",
       "...                                                 ...   \n",
       "2726  https://www.twitter.com/jaredpolis/statuses/87...   \n",
       "2727  https://www.twitter.com/NRCC/statuses/87758689...   \n",
       "2728  https://www.twitter.com/NormaJTorres/statuses/...   \n",
       "2729  https://www.twitter.com/SenatorFischer/statuse...   \n",
       "2730  https://www.twitter.com/DonaldNorcross/statuse...   \n",
       "\n",
       "                                                   text              source  \\\n",
       "0     RT @CRN_Supplements Thank you @RepErikPaulsen ...  Twitter Web Client   \n",
       "1     Congrats to our Congressional Award Gold Medal...  Twitter Web Client   \n",
       "2     ICYMI: I chaired a hearing to explore expandin...           TweetDeck   \n",
       "3     The Affordable Care Act should be improved. Bu...           TweetDeck   \n",
       "4     #TaxReform will create a low tax rate just for...           Hootsuite   \n",
       "...                                                 ...                 ...   \n",
       "2726  Sun sets at 8:31 pm in Denver tonight! #Summer...  Twitter for iPhone   \n",
       "2727  Congratulations to the newest Congressman from...  Twitter Web Client   \n",
       "2728  It's all in a days work for CA-35 https://t.co...  Twitter for iPhone   \n",
       "2729  It was wonderful to welcome my old friend Don ...  Twitter Web Client   \n",
       "2730  On #TheLongestDay, let's recommit to the fight...  Twitter Web Client   \n",
       "\n",
       "                 user_id  \n",
       "0               17513304  \n",
       "1     817138492614524928  \n",
       "2              264219447  \n",
       "3              216776631  \n",
       "4     818975124460335104  \n",
       "...                  ...  \n",
       "2726            15361570  \n",
       "2727             5496932  \n",
       "2728           236279233  \n",
       "2729          1071402577  \n",
       "2730          3122099613  \n",
       "\n",
       "[2731 rows x 7 columns]"
      ]
     },
     "execution_count": 39,
     "metadata": {},
     "output_type": "execute_result"
    }
   ],
   "source": [
    "json_data = '../../../mediabias_main/congresstweets/data/'\n",
    "day = '2017-06-21'\n",
    "pd.read_json(json_data+day+'.json')"
   ]
  },
  {
   "cell_type": "code",
   "execution_count": 40,
   "metadata": {},
   "outputs": [],
   "source": [
    "import datetime"
   ]
  },
  {
   "cell_type": "code",
   "execution_count": 51,
   "metadata": {},
   "outputs": [
    {
     "data": {
      "text/plain": [
       "\"'2017-06-22'\""
      ]
     },
     "execution_count": 51,
     "metadata": {},
     "output_type": "execute_result"
    }
   ],
   "source": [
    "day_dt = datetime.datetime.strptime(day, '%Y-%m-%d')\n",
    "day_dt += datetime.timedelta(days=1)\n",
    "\n",
    "day_dt.strftime('%Y-%m-%d')"
   ]
  },
  {
   "cell_type": "code",
   "execution_count": null,
   "metadata": {},
   "outputs": [],
   "source": [
    "break_time = datetime.datetime(2018, 6, 22)\n",
    "\n",
    "frames = []\n",
    "\n",
    "while day_dt < break_time:\n",
    "    try:\n",
    "        day_str = day_dt.strftime('%Y-%m-%d')\n",
    "        day_df = pd.read_json(json_data+day_str+'.json')\n",
    "        frames.append(day_df)\n",
    "        day_dt += datetime.timedelta(days=1)\n",
    "    except:\n",
    "        day_dt += datetime.timedelta(days=1)\n",
    "        pass"
   ]
  },
  {
   "cell_type": "code",
   "execution_count": null,
   "metadata": {},
   "outputs": [],
   "source": [
    "len(frames)"
   ]
  },
  {
   "cell_type": "code",
   "execution_count": null,
   "metadata": {},
   "outputs": [],
   "source": []
  }
 ],
 "metadata": {
  "kernelspec": {
   "display_name": "Python 3",
   "language": "python",
   "name": "python3"
  },
  "language_info": {
   "codemirror_mode": {
    "name": "ipython",
    "version": 3
   },
   "file_extension": ".py",
   "mimetype": "text/x-python",
   "name": "python",
   "nbconvert_exporter": "python",
   "pygments_lexer": "ipython3",
   "version": "3.7.4"
  }
 },
 "nbformat": 4,
 "nbformat_minor": 4
}
